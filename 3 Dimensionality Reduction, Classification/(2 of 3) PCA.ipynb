{
 "cells": [
  {
   "cell_type": "markdown",
   "id": "7a436899",
   "metadata": {},
   "source": [
    "# (2 of 3) PCA\n",
    "---\n",
    "# AMEX Default\n",
    "# Dimensionality Reduction: PCA, LDA\n",
    "### (For future use by Classification Algorithms)\n",
    "---"
   ]
  },
  {
   "cell_type": "code",
   "execution_count": 1,
   "id": "497e8299",
   "metadata": {},
   "outputs": [
    {
     "data": {
      "text/plain": [
       "'3.8.8 (default, Apr 13 2021, 19:58:26) \\n[GCC 7.3.0]'"
      ]
     },
     "execution_count": 1,
     "metadata": {},
     "output_type": "execute_result"
    }
   ],
   "source": [
    "import sys\n",
    "sys.version"
   ]
  },
  {
   "cell_type": "code",
   "execution_count": 2,
   "id": "eac50817",
   "metadata": {},
   "outputs": [],
   "source": [
    "import pandas as pd\n",
    "import numpy as np\n",
    "import matplotlib.pyplot as plt\n",
    "import seaborn as sns\n",
    "import plotly.express as px\n",
    "import joblib\n",
    "\n",
    "%matplotlib inline\n",
    "%config InlineBackend.figure_format = 'retina'"
   ]
  },
  {
   "cell_type": "code",
   "execution_count": 3,
   "id": "e84045c7",
   "metadata": {},
   "outputs": [],
   "source": [
    "df = pd.read_parquet('./dataset/train_data.parquet')"
   ]
  },
  {
   "cell_type": "code",
   "execution_count": 4,
   "id": "04dc639e",
   "metadata": {},
   "outputs": [],
   "source": [
    "df['S_2'] = pd.to_datetime(df['S_2'], format='%Y/%m/%d')"
   ]
  },
  {
   "cell_type": "code",
   "execution_count": 5,
   "id": "60d73b71",
   "metadata": {},
   "outputs": [],
   "source": [
    "category_cols = ['B_30','B_38','D_114','D_116','D_117','D_120','D_126','D_63','D_64','D_66','D_68']\n",
    "\n",
    "for col in category_cols:\n",
    "    df[col] = df[col].astype('category')"
   ]
  },
  {
   "cell_type": "code",
   "execution_count": 6,
   "id": "7395bb34",
   "metadata": {},
   "outputs": [],
   "source": [
    "my_dictionary = {'CO':0,'CR':1,'CL':2,'XL':3,'XZ':4,'XM':5}\n",
    "df['D_63'] = df['D_63'].map(my_dictionary)"
   ]
  },
  {
   "cell_type": "code",
   "execution_count": 7,
   "id": "077e91d1",
   "metadata": {},
   "outputs": [],
   "source": [
    "my_dictionary = {'O':0,'R':1,'U':2,'-1':3}\n",
    "df['D_64'] = df['D_64'].map(my_dictionary)"
   ]
  },
  {
   "cell_type": "code",
   "execution_count": 8,
   "id": "ffde0bd1",
   "metadata": {},
   "outputs": [],
   "source": [
    "percent_missing = df.isnull().sum() * 100 / len(df)\n",
    "df_missing_val = pd.DataFrame({'column_name': df.columns,\n",
    "                                 'percent_missing': percent_missing})"
   ]
  },
  {
   "cell_type": "code",
   "execution_count": 9,
   "id": "a916ecd3",
   "metadata": {},
   "outputs": [],
   "source": [
    "df.drop(\n",
    "    columns=df_missing_val.loc[\n",
    "        df_missing_val.percent_missing > 50\n",
    "    ].index, inplace=True, errors='ignore'\n",
    ")"
   ]
  },
  {
   "cell_type": "code",
   "execution_count": 10,
   "id": "d75b8677",
   "metadata": {},
   "outputs": [],
   "source": [
    "df.dropna(inplace=True)"
   ]
  },
  {
   "cell_type": "markdown",
   "id": "e7fa79c6",
   "metadata": {},
   "source": [
    "### Train/Test split with the 80:20 ratio"
   ]
  },
  {
   "cell_type": "code",
   "execution_count": 11,
   "id": "e80bf679",
   "metadata": {},
   "outputs": [],
   "source": [
    "X = df.drop(['target','customer_ID','S_2'],axis=1)\n",
    "y = df['target']"
   ]
  },
  {
   "cell_type": "code",
   "execution_count": 12,
   "id": "d8a7b402",
   "metadata": {},
   "outputs": [],
   "source": [
    "from sklearn.model_selection import train_test_split"
   ]
  },
  {
   "cell_type": "code",
   "execution_count": 13,
   "id": "7a8d52c7",
   "metadata": {},
   "outputs": [],
   "source": [
    "X_train, X_test, y_train, y_test = train_test_split(X, y, test_size=0.2, random_state=55)"
   ]
  },
  {
   "cell_type": "code",
   "execution_count": 14,
   "id": "7f6bcfd2",
   "metadata": {
    "scrolled": true
   },
   "outputs": [
    {
     "name": "stdout",
     "output_type": "stream",
     "text": [
      "(1041295, 158)\n",
      "(260324, 158)\n",
      "(1041295,)\n",
      "(260324,)\n"
     ]
    }
   ],
   "source": [
    "print(X_train.shape)\n",
    "print(X_test.shape)\n",
    "print(y_train.shape)\n",
    "print(y_test.shape)"
   ]
  },
  {
   "cell_type": "markdown",
   "id": "e33aed3c",
   "metadata": {},
   "source": [
    "#### This evaluation function will collect the evaluation values for future use in performance graph comparison."
   ]
  },
  {
   "cell_type": "code",
   "execution_count": 15,
   "id": "08f07509",
   "metadata": {},
   "outputs": [],
   "source": [
    "df_model_compare = pd.read_csv('./eval_results/eval_results.csv',index_col=0)"
   ]
  },
  {
   "cell_type": "code",
   "execution_count": 16,
   "id": "fa2fb950",
   "metadata": {},
   "outputs": [],
   "source": [
    "acc = df_model_compare.loc['Accuracy'].to_dict()\n",
    "f1 = df_model_compare.loc['F1 Score'].to_dict()\n",
    "prec = df_model_compare.loc['Precision'].to_dict()\n",
    "recl = df_model_compare.loc['Recall'].to_dict()\n",
    "\n",
    "def my_eval(model,y_test,predicted):\n",
    "    \n",
    "    print(model,'Results')\n",
    "    print('Accuracy: ', accuracy_score(y_test, predicted))\n",
    "    print('F1 Score: ', f1_score(y_test, predicted))\n",
    "    print('Precision: ', precision_score(y_test, predicted))\n",
    "    print('Recall: ', recall_score(y_test, predicted))\n",
    "    \n",
    "    acc[model] = accuracy_score(y_test, predicted)\n",
    "    f1[model] = f1_score(y_test, predicted)\n",
    "    prec[model] = precision_score(y_test, predicted)\n",
    "    recl[model] = recall_score(y_test, predicted)\n",
    "    \n",
    "    global df_model_compare\n",
    "    df_model_compare = pd.DataFrame.from_dict(\n",
    "        [acc,f1,prec,recl]\n",
    "    ).rename(\n",
    "        index={0:'Accuracy',1:'F1 Score',2:'Precision',3:'Recall'}\n",
    "    )\n",
    "    display(df_model_compare)"
   ]
  },
  {
   "cell_type": "markdown",
   "id": "baf2bac8",
   "metadata": {},
   "source": [
    "---\n",
    "# 1. Principal Component Analysis (PCA)\n",
    "---"
   ]
  },
  {
   "cell_type": "code",
   "execution_count": 17,
   "id": "aaf47eaa",
   "metadata": {},
   "outputs": [],
   "source": [
    "from sklearn.decomposition import PCA"
   ]
  },
  {
   "cell_type": "code",
   "execution_count": 18,
   "id": "c7830fe3",
   "metadata": {},
   "outputs": [],
   "source": [
    "pca = PCA(n_components=30)"
   ]
  },
  {
   "cell_type": "code",
   "execution_count": 19,
   "id": "0625f201",
   "metadata": {},
   "outputs": [],
   "source": [
    "X_train_pca = pca.fit_transform(X_train)\n",
    "X_test_pca = pca.transform(X_test)"
   ]
  },
  {
   "cell_type": "code",
   "execution_count": 20,
   "id": "6f31bff9",
   "metadata": {},
   "outputs": [
    {
     "name": "stdout",
     "output_type": "stream",
     "text": [
      "(1041295, 30)\n",
      "(260324, 30)\n"
     ]
    }
   ],
   "source": [
    "print(X_train_pca.shape)\n",
    "print(X_test_pca.shape)"
   ]
  },
  {
   "cell_type": "code",
   "execution_count": 21,
   "id": "5e62ab18",
   "metadata": {},
   "outputs": [],
   "source": [
    "del X_train\n",
    "del X_test"
   ]
  },
  {
   "cell_type": "markdown",
   "id": "9e41fb85",
   "metadata": {},
   "source": [
    "### Showing the influence of the old features on the newly created PCA components\n",
    "Counting from the index 0, we have PC1 (Principal Component 1), PC2 (Principal Component 2), and so on."
   ]
  },
  {
   "cell_type": "code",
   "execution_count": 22,
   "id": "7e630c6f",
   "metadata": {},
   "outputs": [
    {
     "data": {
      "text/html": [
       "<div>\n",
       "<style scoped>\n",
       "    .dataframe tbody tr th:only-of-type {\n",
       "        vertical-align: middle;\n",
       "    }\n",
       "\n",
       "    .dataframe tbody tr th {\n",
       "        vertical-align: top;\n",
       "    }\n",
       "\n",
       "    .dataframe thead th {\n",
       "        text-align: right;\n",
       "    }\n",
       "</style>\n",
       "<table border=\"1\" class=\"dataframe\">\n",
       "  <thead>\n",
       "    <tr style=\"text-align: right;\">\n",
       "      <th></th>\n",
       "      <th>0</th>\n",
       "      <th>1</th>\n",
       "      <th>2</th>\n",
       "      <th>3</th>\n",
       "      <th>4</th>\n",
       "      <th>5</th>\n",
       "      <th>6</th>\n",
       "      <th>7</th>\n",
       "      <th>8</th>\n",
       "      <th>9</th>\n",
       "      <th>...</th>\n",
       "      <th>20</th>\n",
       "      <th>21</th>\n",
       "      <th>22</th>\n",
       "      <th>23</th>\n",
       "      <th>24</th>\n",
       "      <th>25</th>\n",
       "      <th>26</th>\n",
       "      <th>27</th>\n",
       "      <th>28</th>\n",
       "      <th>29</th>\n",
       "    </tr>\n",
       "  </thead>\n",
       "  <tbody>\n",
       "    <tr>\n",
       "      <th>P_2</th>\n",
       "      <td>-0.001826</td>\n",
       "      <td>-0.000882</td>\n",
       "      <td>-0.001075</td>\n",
       "      <td>0.026438</td>\n",
       "      <td>0.011903</td>\n",
       "      <td>0.018667</td>\n",
       "      <td>-0.089133</td>\n",
       "      <td>0.015020</td>\n",
       "      <td>0.020088</td>\n",
       "      <td>-0.000787</td>\n",
       "      <td>...</td>\n",
       "      <td>0.010492</td>\n",
       "      <td>-0.014448</td>\n",
       "      <td>-0.023097</td>\n",
       "      <td>-0.012751</td>\n",
       "      <td>0.000684</td>\n",
       "      <td>0.044107</td>\n",
       "      <td>0.030591</td>\n",
       "      <td>-0.055209</td>\n",
       "      <td>-0.004102</td>\n",
       "      <td>-0.007005</td>\n",
       "    </tr>\n",
       "    <tr>\n",
       "      <th>D_39</th>\n",
       "      <td>0.000398</td>\n",
       "      <td>0.000390</td>\n",
       "      <td>0.006324</td>\n",
       "      <td>-0.001653</td>\n",
       "      <td>-0.002912</td>\n",
       "      <td>0.001897</td>\n",
       "      <td>0.018225</td>\n",
       "      <td>0.006203</td>\n",
       "      <td>-0.016696</td>\n",
       "      <td>0.002462</td>\n",
       "      <td>...</td>\n",
       "      <td>0.045026</td>\n",
       "      <td>-0.031827</td>\n",
       "      <td>-0.012251</td>\n",
       "      <td>0.037003</td>\n",
       "      <td>0.008583</td>\n",
       "      <td>0.005792</td>\n",
       "      <td>-0.100678</td>\n",
       "      <td>-0.048142</td>\n",
       "      <td>0.008197</td>\n",
       "      <td>0.062135</td>\n",
       "    </tr>\n",
       "    <tr>\n",
       "      <th>B_1</th>\n",
       "      <td>0.000242</td>\n",
       "      <td>0.000002</td>\n",
       "      <td>-0.000247</td>\n",
       "      <td>-0.011214</td>\n",
       "      <td>-0.009061</td>\n",
       "      <td>-0.012874</td>\n",
       "      <td>0.057602</td>\n",
       "      <td>-0.008403</td>\n",
       "      <td>-0.047180</td>\n",
       "      <td>0.000561</td>\n",
       "      <td>...</td>\n",
       "      <td>-0.015738</td>\n",
       "      <td>-0.049406</td>\n",
       "      <td>-0.038156</td>\n",
       "      <td>0.072282</td>\n",
       "      <td>-0.027692</td>\n",
       "      <td>0.035081</td>\n",
       "      <td>-0.063388</td>\n",
       "      <td>0.011752</td>\n",
       "      <td>-0.003175</td>\n",
       "      <td>0.015521</td>\n",
       "    </tr>\n",
       "    <tr>\n",
       "      <th>B_2</th>\n",
       "      <td>-0.001144</td>\n",
       "      <td>-0.000443</td>\n",
       "      <td>-0.004493</td>\n",
       "      <td>0.037493</td>\n",
       "      <td>0.026383</td>\n",
       "      <td>0.039867</td>\n",
       "      <td>-0.162160</td>\n",
       "      <td>0.025142</td>\n",
       "      <td>0.119814</td>\n",
       "      <td>0.008601</td>\n",
       "      <td>...</td>\n",
       "      <td>0.066779</td>\n",
       "      <td>0.124034</td>\n",
       "      <td>0.099524</td>\n",
       "      <td>-0.107182</td>\n",
       "      <td>-0.002282</td>\n",
       "      <td>0.003520</td>\n",
       "      <td>0.155483</td>\n",
       "      <td>0.123599</td>\n",
       "      <td>-0.154783</td>\n",
       "      <td>0.133726</td>\n",
       "    </tr>\n",
       "    <tr>\n",
       "      <th>R_1</th>\n",
       "      <td>0.002747</td>\n",
       "      <td>0.000375</td>\n",
       "      <td>0.001410</td>\n",
       "      <td>-0.011509</td>\n",
       "      <td>-0.006645</td>\n",
       "      <td>-0.009426</td>\n",
       "      <td>0.053151</td>\n",
       "      <td>0.017978</td>\n",
       "      <td>-0.015394</td>\n",
       "      <td>0.037966</td>\n",
       "      <td>...</td>\n",
       "      <td>0.086264</td>\n",
       "      <td>-0.005042</td>\n",
       "      <td>0.012669</td>\n",
       "      <td>0.040390</td>\n",
       "      <td>0.003500</td>\n",
       "      <td>0.008743</td>\n",
       "      <td>-0.022471</td>\n",
       "      <td>0.033827</td>\n",
       "      <td>0.003780</td>\n",
       "      <td>0.046280</td>\n",
       "    </tr>\n",
       "    <tr>\n",
       "      <th>...</th>\n",
       "      <td>...</td>\n",
       "      <td>...</td>\n",
       "      <td>...</td>\n",
       "      <td>...</td>\n",
       "      <td>...</td>\n",
       "      <td>...</td>\n",
       "      <td>...</td>\n",
       "      <td>...</td>\n",
       "      <td>...</td>\n",
       "      <td>...</td>\n",
       "      <td>...</td>\n",
       "      <td>...</td>\n",
       "      <td>...</td>\n",
       "      <td>...</td>\n",
       "      <td>...</td>\n",
       "      <td>...</td>\n",
       "      <td>...</td>\n",
       "      <td>...</td>\n",
       "      <td>...</td>\n",
       "      <td>...</td>\n",
       "      <td>...</td>\n",
       "    </tr>\n",
       "    <tr>\n",
       "      <th>D_140</th>\n",
       "      <td>0.000116</td>\n",
       "      <td>-0.000045</td>\n",
       "      <td>-0.000110</td>\n",
       "      <td>-0.003449</td>\n",
       "      <td>-0.001323</td>\n",
       "      <td>-0.002635</td>\n",
       "      <td>0.010289</td>\n",
       "      <td>-0.002516</td>\n",
       "      <td>-0.001468</td>\n",
       "      <td>-0.000932</td>\n",
       "      <td>...</td>\n",
       "      <td>0.004949</td>\n",
       "      <td>0.005474</td>\n",
       "      <td>-0.004471</td>\n",
       "      <td>0.003305</td>\n",
       "      <td>0.001850</td>\n",
       "      <td>-0.004676</td>\n",
       "      <td>0.000979</td>\n",
       "      <td>0.006230</td>\n",
       "      <td>0.004875</td>\n",
       "      <td>-0.001791</td>\n",
       "    </tr>\n",
       "    <tr>\n",
       "      <th>D_141</th>\n",
       "      <td>0.000408</td>\n",
       "      <td>-0.000047</td>\n",
       "      <td>-0.000475</td>\n",
       "      <td>-0.012291</td>\n",
       "      <td>-0.005479</td>\n",
       "      <td>-0.011791</td>\n",
       "      <td>0.044201</td>\n",
       "      <td>-0.015217</td>\n",
       "      <td>-0.000784</td>\n",
       "      <td>-0.009946</td>\n",
       "      <td>...</td>\n",
       "      <td>0.051783</td>\n",
       "      <td>-0.024656</td>\n",
       "      <td>-0.048836</td>\n",
       "      <td>0.002760</td>\n",
       "      <td>0.004759</td>\n",
       "      <td>-0.008336</td>\n",
       "      <td>0.029134</td>\n",
       "      <td>0.002662</td>\n",
       "      <td>0.004087</td>\n",
       "      <td>0.000337</td>\n",
       "    </tr>\n",
       "    <tr>\n",
       "      <th>D_143</th>\n",
       "      <td>0.000447</td>\n",
       "      <td>-0.000096</td>\n",
       "      <td>-0.000540</td>\n",
       "      <td>-0.013768</td>\n",
       "      <td>-0.006047</td>\n",
       "      <td>-0.013042</td>\n",
       "      <td>0.048770</td>\n",
       "      <td>-0.017040</td>\n",
       "      <td>-0.000438</td>\n",
       "      <td>-0.010873</td>\n",
       "      <td>...</td>\n",
       "      <td>0.056348</td>\n",
       "      <td>-0.026661</td>\n",
       "      <td>-0.052864</td>\n",
       "      <td>0.003267</td>\n",
       "      <td>0.005488</td>\n",
       "      <td>-0.009745</td>\n",
       "      <td>0.031280</td>\n",
       "      <td>0.003166</td>\n",
       "      <td>0.004980</td>\n",
       "      <td>0.000062</td>\n",
       "    </tr>\n",
       "    <tr>\n",
       "      <th>D_144</th>\n",
       "      <td>-0.000026</td>\n",
       "      <td>0.000110</td>\n",
       "      <td>-0.000020</td>\n",
       "      <td>-0.000677</td>\n",
       "      <td>-0.000983</td>\n",
       "      <td>-0.001851</td>\n",
       "      <td>0.006682</td>\n",
       "      <td>-0.002643</td>\n",
       "      <td>0.000183</td>\n",
       "      <td>-0.003180</td>\n",
       "      <td>...</td>\n",
       "      <td>0.018893</td>\n",
       "      <td>-0.021535</td>\n",
       "      <td>-0.019766</td>\n",
       "      <td>-0.001228</td>\n",
       "      <td>-0.000437</td>\n",
       "      <td>0.001573</td>\n",
       "      <td>0.016281</td>\n",
       "      <td>-0.003602</td>\n",
       "      <td>-0.003306</td>\n",
       "      <td>0.003438</td>\n",
       "    </tr>\n",
       "    <tr>\n",
       "      <th>D_145</th>\n",
       "      <td>0.000199</td>\n",
       "      <td>-0.000098</td>\n",
       "      <td>-0.000235</td>\n",
       "      <td>-0.006301</td>\n",
       "      <td>-0.002500</td>\n",
       "      <td>-0.005353</td>\n",
       "      <td>0.020413</td>\n",
       "      <td>-0.007684</td>\n",
       "      <td>0.001796</td>\n",
       "      <td>-0.003813</td>\n",
       "      <td>...</td>\n",
       "      <td>0.022096</td>\n",
       "      <td>-0.006567</td>\n",
       "      <td>-0.018674</td>\n",
       "      <td>0.001922</td>\n",
       "      <td>0.001643</td>\n",
       "      <td>-0.004136</td>\n",
       "      <td>0.006621</td>\n",
       "      <td>0.004173</td>\n",
       "      <td>0.003319</td>\n",
       "      <td>-0.000966</td>\n",
       "    </tr>\n",
       "  </tbody>\n",
       "</table>\n",
       "<p>158 rows × 30 columns</p>\n",
       "</div>"
      ],
      "text/plain": [
       "             0         1         2         3         4         5         6   \\\n",
       "P_2   -0.001826 -0.000882 -0.001075  0.026438  0.011903  0.018667 -0.089133   \n",
       "D_39   0.000398  0.000390  0.006324 -0.001653 -0.002912  0.001897  0.018225   \n",
       "B_1    0.000242  0.000002 -0.000247 -0.011214 -0.009061 -0.012874  0.057602   \n",
       "B_2   -0.001144 -0.000443 -0.004493  0.037493  0.026383  0.039867 -0.162160   \n",
       "R_1    0.002747  0.000375  0.001410 -0.011509 -0.006645 -0.009426  0.053151   \n",
       "...         ...       ...       ...       ...       ...       ...       ...   \n",
       "D_140  0.000116 -0.000045 -0.000110 -0.003449 -0.001323 -0.002635  0.010289   \n",
       "D_141  0.000408 -0.000047 -0.000475 -0.012291 -0.005479 -0.011791  0.044201   \n",
       "D_143  0.000447 -0.000096 -0.000540 -0.013768 -0.006047 -0.013042  0.048770   \n",
       "D_144 -0.000026  0.000110 -0.000020 -0.000677 -0.000983 -0.001851  0.006682   \n",
       "D_145  0.000199 -0.000098 -0.000235 -0.006301 -0.002500 -0.005353  0.020413   \n",
       "\n",
       "             7         8         9   ...        20        21        22  \\\n",
       "P_2    0.015020  0.020088 -0.000787  ...  0.010492 -0.014448 -0.023097   \n",
       "D_39   0.006203 -0.016696  0.002462  ...  0.045026 -0.031827 -0.012251   \n",
       "B_1   -0.008403 -0.047180  0.000561  ... -0.015738 -0.049406 -0.038156   \n",
       "B_2    0.025142  0.119814  0.008601  ...  0.066779  0.124034  0.099524   \n",
       "R_1    0.017978 -0.015394  0.037966  ...  0.086264 -0.005042  0.012669   \n",
       "...         ...       ...       ...  ...       ...       ...       ...   \n",
       "D_140 -0.002516 -0.001468 -0.000932  ...  0.004949  0.005474 -0.004471   \n",
       "D_141 -0.015217 -0.000784 -0.009946  ...  0.051783 -0.024656 -0.048836   \n",
       "D_143 -0.017040 -0.000438 -0.010873  ...  0.056348 -0.026661 -0.052864   \n",
       "D_144 -0.002643  0.000183 -0.003180  ...  0.018893 -0.021535 -0.019766   \n",
       "D_145 -0.007684  0.001796 -0.003813  ...  0.022096 -0.006567 -0.018674   \n",
       "\n",
       "             23        24        25        26        27        28        29  \n",
       "P_2   -0.012751  0.000684  0.044107  0.030591 -0.055209 -0.004102 -0.007005  \n",
       "D_39   0.037003  0.008583  0.005792 -0.100678 -0.048142  0.008197  0.062135  \n",
       "B_1    0.072282 -0.027692  0.035081 -0.063388  0.011752 -0.003175  0.015521  \n",
       "B_2   -0.107182 -0.002282  0.003520  0.155483  0.123599 -0.154783  0.133726  \n",
       "R_1    0.040390  0.003500  0.008743 -0.022471  0.033827  0.003780  0.046280  \n",
       "...         ...       ...       ...       ...       ...       ...       ...  \n",
       "D_140  0.003305  0.001850 -0.004676  0.000979  0.006230  0.004875 -0.001791  \n",
       "D_141  0.002760  0.004759 -0.008336  0.029134  0.002662  0.004087  0.000337  \n",
       "D_143  0.003267  0.005488 -0.009745  0.031280  0.003166  0.004980  0.000062  \n",
       "D_144 -0.001228 -0.000437  0.001573  0.016281 -0.003602 -0.003306  0.003438  \n",
       "D_145  0.001922  0.001643 -0.004136  0.006621  0.004173  0.003319 -0.000966  \n",
       "\n",
       "[158 rows x 30 columns]"
      ]
     },
     "execution_count": 22,
     "metadata": {},
     "output_type": "execute_result"
    }
   ],
   "source": [
    "df_comp = pd.DataFrame(pca.components_, columns=X.columns)\n",
    "df_comp.T"
   ]
  },
  {
   "cell_type": "code",
   "execution_count": 23,
   "id": "599efb46",
   "metadata": {},
   "outputs": [
    {
     "data": {
      "text/plain": [
       "<AxesSubplot:>"
      ]
     },
     "execution_count": 23,
     "metadata": {},
     "output_type": "execute_result"
    },
    {
     "data": {
      "image/png": "[encoded data removed]",
      "text/plain": [
       "<Figure size 1440x720 with 2 Axes>"
      ]
     },
     "metadata": {
      "image/png": {
       "height": 596,
       "width": 1037
      },
      "needs_background": "light"
     },
     "output_type": "display_data"
    }
   ],
   "source": [
    "plt.figure(figsize=(20,10))\n",
    "sns.heatmap(df_comp, annot=False, cmap='coolwarm', linecolor='white', linewidths=2)"
   ]
  },
  {
   "cell_type": "code",
   "execution_count": 24,
   "id": "8c66a301",
   "metadata": {
    "scrolled": true
   },
   "outputs": [
    {
     "data": {
      "text/plain": [
       "array([55.17363291, 33.30206562, 10.86834123,  5.73842943,  3.87446421,\n",
       "        3.28203441,  2.67261874,  2.28867219,  1.98913717,  1.04358856,\n",
       "        0.90940326,  0.75211178,  0.73675324,  0.68801226,  0.59372805,\n",
       "        0.49043032,  0.41190754,  0.38911074,  0.37352142,  0.33131912,\n",
       "        0.29437656,  0.25945799,  0.25614846,  0.22221429,  0.21836937,\n",
       "        0.21347195,  0.21012252,  0.19381524,  0.18333811,  0.17319694])"
      ]
     },
     "execution_count": 24,
     "metadata": {},
     "output_type": "execute_result"
    }
   ],
   "source": [
    "pca.explained_variance_"
   ]
  },
  {
   "cell_type": "markdown",
   "id": "ca0d905c",
   "metadata": {},
   "source": [
    "The pc1 has var = 55.17363291. (The higher the number, the more important it is.)"
   ]
  },
  {
   "cell_type": "code",
   "execution_count": 25,
   "id": "2bc55c3b",
   "metadata": {},
   "outputs": [
    {
     "data": {
      "text/plain": [
       "array([0.41642237, 0.66776933, 0.74979801, 0.79310874, 0.82235122,\n",
       "       0.84712233, 0.86729389, 0.88456762, 0.89958061, 0.90745708,\n",
       "       0.9143208 , 0.91999735, 0.92555799, 0.93075075, 0.93523191,\n",
       "       0.93893342, 0.94204229, 0.9449791 , 0.94779825, 0.95029888,\n",
       "       0.95252068, 0.95447894, 0.95641221, 0.95808937, 0.95973751,\n",
       "       0.96134869, 0.96293459, 0.96439741, 0.96578115, 0.96708835])"
      ]
     },
     "execution_count": 25,
     "metadata": {},
     "output_type": "execute_result"
    }
   ],
   "source": [
    "pca.explained_variance_ratio_.cumsum()"
   ]
  },
  {
   "cell_type": "code",
   "execution_count": 26,
   "id": "b5ea6e38",
   "metadata": {},
   "outputs": [
    {
     "data": {
      "image/png": "[encoded data removed]",
      "text/plain": [
       "<Figure size 1440x720 with 1 Axes>"
      ]
     },
     "metadata": {
      "image/png": {
       "height": 578,
       "width": 1153
      },
      "needs_background": "light"
     },
     "output_type": "display_data"
    }
   ],
   "source": [
    "plt.figure(figsize=(20,10))\n",
    "plt.plot(pca.explained_variance_ratio_.cumsum())\n",
    "plt.ylim(0.5,1)\n",
    "plt.grid()"
   ]
  },
  {
   "cell_type": "code",
   "execution_count": 27,
   "id": "dfc738b6",
   "metadata": {
    "scrolled": true
   },
   "outputs": [
    {
     "name": "stdout",
     "output_type": "stream",
     "text": [
      "Components =  30 ;\n",
      "Total explained variance =  0.96709\n"
     ]
    }
   ],
   "source": [
    "print ( \"Components = \", pca.n_components_ , \";\\nTotal explained variance = \",\n",
    "      round(pca.explained_variance_ratio_.sum(),5)  )"
   ]
  },
  {
   "cell_type": "markdown",
   "id": "83d4cc26",
   "metadata": {},
   "source": [
    "The variance among those components is up to 96.7%.  \n",
    "Therefore, 30 components can capture enough information."
   ]
  },
  {
   "cell_type": "markdown",
   "id": "739366e5",
   "metadata": {},
   "source": [
    "## 1.1 Logistic Regression with PCA"
   ]
  },
  {
   "cell_type": "code",
   "execution_count": 28,
   "id": "c0fde5c1",
   "metadata": {},
   "outputs": [],
   "source": [
    "from sklearn.metrics import confusion_matrix, accuracy_score, f1_score, precision_score, recall_score"
   ]
  },
  {
   "cell_type": "code",
   "execution_count": null,
   "id": "55013636",
   "metadata": {},
   "outputs": [],
   "source": [
    "from sklearn.linear_model import LogisticRegression\n",
    "\n",
    "logit_pca = LogisticRegression(max_iter=1000)\n",
    "logit_pca.fit(X_train_pca, y_train)"
   ]
  },
  {
   "cell_type": "markdown",
   "id": "40a1cf1f",
   "metadata": {},
   "source": [
    "Running time is approximately 20 seconds."
   ]
  },
  {
   "cell_type": "code",
   "execution_count": 29,
   "id": "6ab4e9a2",
   "metadata": {},
   "outputs": [],
   "source": [
    "# Save Model\n",
    "#joblib.dump(logit_pca, './models/Logit_PCA.pkl')\n",
    "\n",
    "# Load Model\n",
    "logit_pca = joblib.load('./models/Logit_PCA.pkl')"
   ]
  },
  {
   "cell_type": "code",
   "execution_count": 30,
   "id": "2c9a66c4",
   "metadata": {},
   "outputs": [],
   "source": [
    "logistic_predicted_pca = logit_pca.predict(X_test_pca)"
   ]
  },
  {
   "cell_type": "code",
   "execution_count": 31,
   "id": "aac50472",
   "metadata": {
    "scrolled": true
   },
   "outputs": [
    {
     "data": {
      "text/plain": [
       "array([[188437,  12897],\n",
       "       [ 18231,  40759]])"
      ]
     },
     "execution_count": 31,
     "metadata": {},
     "output_type": "execute_result"
    }
   ],
   "source": [
    "confusion_matrix(y_test, logistic_predicted_pca)"
   ]
  },
  {
   "cell_type": "markdown",
   "id": "fe2a5d3d",
   "metadata": {},
   "source": [
    "[ TN FP ]  \n",
    "[ FN TP ]\n",
    "\n",
    "TP (Predict as default; the truth is default)  \n",
    "TN (Predict as not default; the truth is not default)  \n",
    "FP (Predict as default; the truth is not default)  \n",
    "FN (Predict as not default; the truth is default)"
   ]
  },
  {
   "cell_type": "code",
   "execution_count": 32,
   "id": "f2eacfda",
   "metadata": {},
   "outputs": [
    {
     "name": "stdout",
     "output_type": "stream",
     "text": [
      "Logit_PCA Results\n",
      "Accuracy:  0.8804259307632027\n",
      "F1 Score:  0.7236652877154981\n",
      "Precision:  0.7596354554942597\n",
      "Recall:  0.6909476182403798\n"
     ]
    },
    {
     "data": {
      "text/html": [
       "<div>\n",
       "<style scoped>\n",
       "    .dataframe tbody tr th:only-of-type {\n",
       "        vertical-align: middle;\n",
       "    }\n",
       "\n",
       "    .dataframe tbody tr th {\n",
       "        vertical-align: top;\n",
       "    }\n",
       "\n",
       "    .dataframe thead th {\n",
       "        text-align: right;\n",
       "    }\n",
       "</style>\n",
       "<table border=\"1\" class=\"dataframe\">\n",
       "  <thead>\n",
       "    <tr style=\"text-align: right;\">\n",
       "      <th></th>\n",
       "      <th>Logit</th>\n",
       "      <th>NB</th>\n",
       "      <th>DT</th>\n",
       "      <th>RF</th>\n",
       "      <th>Logit_PCA</th>\n",
       "    </tr>\n",
       "  </thead>\n",
       "  <tbody>\n",
       "    <tr>\n",
       "      <th>Accuracy</th>\n",
       "      <td>0.890152</td>\n",
       "      <td>0.860389</td>\n",
       "      <td>0.862033</td>\n",
       "      <td>0.908353</td>\n",
       "      <td>0.880426</td>\n",
       "    </tr>\n",
       "    <tr>\n",
       "      <th>F1 Score</th>\n",
       "      <td>0.750402</td>\n",
       "      <td>0.706927</td>\n",
       "      <td>0.695627</td>\n",
       "      <td>0.795428</td>\n",
       "      <td>0.723665</td>\n",
       "    </tr>\n",
       "    <tr>\n",
       "      <th>Precision</th>\n",
       "      <td>0.773436</td>\n",
       "      <td>0.674146</td>\n",
       "      <td>0.695509</td>\n",
       "      <td>0.804785</td>\n",
       "      <td>0.759635</td>\n",
       "    </tr>\n",
       "    <tr>\n",
       "      <th>Recall</th>\n",
       "      <td>0.728700</td>\n",
       "      <td>0.743058</td>\n",
       "      <td>0.695745</td>\n",
       "      <td>0.786286</td>\n",
       "      <td>0.690948</td>\n",
       "    </tr>\n",
       "  </tbody>\n",
       "</table>\n",
       "</div>"
      ],
      "text/plain": [
       "              Logit        NB        DT        RF  Logit_PCA\n",
       "Accuracy   0.890152  0.860389  0.862033  0.908353   0.880426\n",
       "F1 Score   0.750402  0.706927  0.695627  0.795428   0.723665\n",
       "Precision  0.773436  0.674146  0.695509  0.804785   0.759635\n",
       "Recall     0.728700  0.743058  0.695745  0.786286   0.690948"
      ]
     },
     "metadata": {},
     "output_type": "display_data"
    }
   ],
   "source": [
    "my_eval('Logit_PCA',y_test,logistic_predicted_pca)"
   ]
  },
  {
   "cell_type": "markdown",
   "id": "69acf22a",
   "metadata": {},
   "source": [
    "## 1.2 Naive Bayes with PCA"
   ]
  },
  {
   "cell_type": "code",
   "execution_count": null,
   "id": "396aefad",
   "metadata": {},
   "outputs": [],
   "source": [
    "from sklearn.naive_bayes import GaussianNB\n",
    "\n",
    "nb_pca = GaussianNB()\n",
    "nb_pca.fit(X_train_pca, y_train)"
   ]
  },
  {
   "cell_type": "markdown",
   "id": "7ab15737",
   "metadata": {},
   "source": [
    "Running time is approximately 1 second."
   ]
  },
  {
   "cell_type": "code",
   "execution_count": 33,
   "id": "769e5880",
   "metadata": {},
   "outputs": [],
   "source": [
    "# Save Model\n",
    "#joblib.dump(nb_pca, './models/NB_PCA.pkl')\n",
    "\n",
    "# Load Model\n",
    "nb_pca = joblib.load('./models/NB_PCA.pkl')"
   ]
  },
  {
   "cell_type": "code",
   "execution_count": 34,
   "id": "cdbe426d",
   "metadata": {},
   "outputs": [],
   "source": [
    "nb_predicted_pca = nb_pca.predict(X_test_pca)"
   ]
  },
  {
   "cell_type": "code",
   "execution_count": 35,
   "id": "b99cb90a",
   "metadata": {
    "scrolled": true
   },
   "outputs": [
    {
     "data": {
      "text/plain": [
       "array([[191633,   9701],\n",
       "       [ 32507,  26483]])"
      ]
     },
     "execution_count": 35,
     "metadata": {},
     "output_type": "execute_result"
    }
   ],
   "source": [
    "confusion_matrix(y_test, nb_predicted_pca)"
   ]
  },
  {
   "cell_type": "code",
   "execution_count": 36,
   "id": "8ff69b47",
   "metadata": {},
   "outputs": [
    {
     "name": "stdout",
     "output_type": "stream",
     "text": [
      "NB_PCA Results\n",
      "Accuracy:  0.837863585378221\n",
      "F1 Score:  0.5565175363019312\n",
      "Precision:  0.7318980764978996\n",
      "Recall:  0.4489404983895576\n"
     ]
    },
    {
     "data": {
      "text/html": [
       "<div>\n",
       "<style scoped>\n",
       "    .dataframe tbody tr th:only-of-type {\n",
       "        vertical-align: middle;\n",
       "    }\n",
       "\n",
       "    .dataframe tbody tr th {\n",
       "        vertical-align: top;\n",
       "    }\n",
       "\n",
       "    .dataframe thead th {\n",
       "        text-align: right;\n",
       "    }\n",
       "</style>\n",
       "<table border=\"1\" class=\"dataframe\">\n",
       "  <thead>\n",
       "    <tr style=\"text-align: right;\">\n",
       "      <th></th>\n",
       "      <th>Logit</th>\n",
       "      <th>NB</th>\n",
       "      <th>DT</th>\n",
       "      <th>RF</th>\n",
       "      <th>Logit_PCA</th>\n",
       "      <th>NB_PCA</th>\n",
       "    </tr>\n",
       "  </thead>\n",
       "  <tbody>\n",
       "    <tr>\n",
       "      <th>Accuracy</th>\n",
       "      <td>0.890152</td>\n",
       "      <td>0.860389</td>\n",
       "      <td>0.862033</td>\n",
       "      <td>0.908353</td>\n",
       "      <td>0.880426</td>\n",
       "      <td>0.837864</td>\n",
       "    </tr>\n",
       "    <tr>\n",
       "      <th>F1 Score</th>\n",
       "      <td>0.750402</td>\n",
       "      <td>0.706927</td>\n",
       "      <td>0.695627</td>\n",
       "      <td>0.795428</td>\n",
       "      <td>0.723665</td>\n",
       "      <td>0.556518</td>\n",
       "    </tr>\n",
       "    <tr>\n",
       "      <th>Precision</th>\n",
       "      <td>0.773436</td>\n",
       "      <td>0.674146</td>\n",
       "      <td>0.695509</td>\n",
       "      <td>0.804785</td>\n",
       "      <td>0.759635</td>\n",
       "      <td>0.731898</td>\n",
       "    </tr>\n",
       "    <tr>\n",
       "      <th>Recall</th>\n",
       "      <td>0.728700</td>\n",
       "      <td>0.743058</td>\n",
       "      <td>0.695745</td>\n",
       "      <td>0.786286</td>\n",
       "      <td>0.690948</td>\n",
       "      <td>0.448940</td>\n",
       "    </tr>\n",
       "  </tbody>\n",
       "</table>\n",
       "</div>"
      ],
      "text/plain": [
       "              Logit        NB        DT        RF  Logit_PCA    NB_PCA\n",
       "Accuracy   0.890152  0.860389  0.862033  0.908353   0.880426  0.837864\n",
       "F1 Score   0.750402  0.706927  0.695627  0.795428   0.723665  0.556518\n",
       "Precision  0.773436  0.674146  0.695509  0.804785   0.759635  0.731898\n",
       "Recall     0.728700  0.743058  0.695745  0.786286   0.690948  0.448940"
      ]
     },
     "metadata": {},
     "output_type": "display_data"
    }
   ],
   "source": [
    "my_eval('NB_PCA',y_test,nb_predicted_pca)"
   ]
  },
  {
   "cell_type": "markdown",
   "id": "259ac737",
   "metadata": {},
   "source": [
    "## 1.3 Decision Tree with PCA"
   ]
  },
  {
   "cell_type": "code",
   "execution_count": null,
   "id": "cdbba4d1",
   "metadata": {},
   "outputs": [],
   "source": [
    "from sklearn.tree import DecisionTreeClassifier\n",
    "\n",
    "dtree_pca = DecisionTreeClassifier()\n",
    "dtree_pca.fit(X_train_pca, y_train)"
   ]
  },
  {
   "cell_type": "markdown",
   "id": "b58aa3ca",
   "metadata": {},
   "source": [
    "Running time is approximately 2 minutes."
   ]
  },
  {
   "cell_type": "code",
   "execution_count": 37,
   "id": "a8087ca5",
   "metadata": {},
   "outputs": [],
   "source": [
    "# Save Model\n",
    "#joblib.dump(dtree_pca, './models/DT_PCA.pkl')\n",
    "\n",
    "# Load Model\n",
    "dtree_pca = joblib.load('./models/DT_PCA.pkl')"
   ]
  },
  {
   "cell_type": "code",
   "execution_count": 38,
   "id": "7c7f1cf6",
   "metadata": {},
   "outputs": [],
   "source": [
    "dtree_predicted_pca = dtree_pca.predict(X_test_pca)"
   ]
  },
  {
   "cell_type": "code",
   "execution_count": 39,
   "id": "7242c6d5",
   "metadata": {
    "scrolled": true
   },
   "outputs": [
    {
     "data": {
      "text/plain": [
       "array([[182822,  18512],\n",
       "       [ 18105,  40885]])"
      ]
     },
     "execution_count": 39,
     "metadata": {},
     "output_type": "execute_result"
    }
   ],
   "source": [
    "confusion_matrix(y_test, dtree_predicted_pca)"
   ]
  },
  {
   "cell_type": "code",
   "execution_count": 40,
   "id": "4902681d",
   "metadata": {},
   "outputs": [
    {
     "name": "stdout",
     "output_type": "stream",
     "text": [
      "DT_PCA Results\n",
      "Accuracy:  0.8593406677832239\n",
      "F1 Score:  0.6907008370851528\n",
      "Precision:  0.6883344276646969\n",
      "Recall:  0.6930835734870316\n"
     ]
    },
    {
     "data": {
      "text/html": [
       "<div>\n",
       "<style scoped>\n",
       "    .dataframe tbody tr th:only-of-type {\n",
       "        vertical-align: middle;\n",
       "    }\n",
       "\n",
       "    .dataframe tbody tr th {\n",
       "        vertical-align: top;\n",
       "    }\n",
       "\n",
       "    .dataframe thead th {\n",
       "        text-align: right;\n",
       "    }\n",
       "</style>\n",
       "<table border=\"1\" class=\"dataframe\">\n",
       "  <thead>\n",
       "    <tr style=\"text-align: right;\">\n",
       "      <th></th>\n",
       "      <th>Logit</th>\n",
       "      <th>NB</th>\n",
       "      <th>DT</th>\n",
       "      <th>RF</th>\n",
       "      <th>Logit_PCA</th>\n",
       "      <th>NB_PCA</th>\n",
       "      <th>DT_PCA</th>\n",
       "    </tr>\n",
       "  </thead>\n",
       "  <tbody>\n",
       "    <tr>\n",
       "      <th>Accuracy</th>\n",
       "      <td>0.890152</td>\n",
       "      <td>0.860389</td>\n",
       "      <td>0.862033</td>\n",
       "      <td>0.908353</td>\n",
       "      <td>0.880426</td>\n",
       "      <td>0.837864</td>\n",
       "      <td>0.859341</td>\n",
       "    </tr>\n",
       "    <tr>\n",
       "      <th>F1 Score</th>\n",
       "      <td>0.750402</td>\n",
       "      <td>0.706927</td>\n",
       "      <td>0.695627</td>\n",
       "      <td>0.795428</td>\n",
       "      <td>0.723665</td>\n",
       "      <td>0.556518</td>\n",
       "      <td>0.690701</td>\n",
       "    </tr>\n",
       "    <tr>\n",
       "      <th>Precision</th>\n",
       "      <td>0.773436</td>\n",
       "      <td>0.674146</td>\n",
       "      <td>0.695509</td>\n",
       "      <td>0.804785</td>\n",
       "      <td>0.759635</td>\n",
       "      <td>0.731898</td>\n",
       "      <td>0.688334</td>\n",
       "    </tr>\n",
       "    <tr>\n",
       "      <th>Recall</th>\n",
       "      <td>0.728700</td>\n",
       "      <td>0.743058</td>\n",
       "      <td>0.695745</td>\n",
       "      <td>0.786286</td>\n",
       "      <td>0.690948</td>\n",
       "      <td>0.448940</td>\n",
       "      <td>0.693084</td>\n",
       "    </tr>\n",
       "  </tbody>\n",
       "</table>\n",
       "</div>"
      ],
      "text/plain": [
       "              Logit        NB        DT        RF  Logit_PCA    NB_PCA  \\\n",
       "Accuracy   0.890152  0.860389  0.862033  0.908353   0.880426  0.837864   \n",
       "F1 Score   0.750402  0.706927  0.695627  0.795428   0.723665  0.556518   \n",
       "Precision  0.773436  0.674146  0.695509  0.804785   0.759635  0.731898   \n",
       "Recall     0.728700  0.743058  0.695745  0.786286   0.690948  0.448940   \n",
       "\n",
       "             DT_PCA  \n",
       "Accuracy   0.859341  \n",
       "F1 Score   0.690701  \n",
       "Precision  0.688334  \n",
       "Recall     0.693084  "
      ]
     },
     "metadata": {},
     "output_type": "display_data"
    }
   ],
   "source": [
    "my_eval('DT_PCA',y_test,dtree_predicted_pca)"
   ]
  },
  {
   "cell_type": "markdown",
   "id": "49a03645",
   "metadata": {},
   "source": [
    "## 1.4 Random Forest with PCA"
   ]
  },
  {
   "cell_type": "code",
   "execution_count": null,
   "id": "a714d3b4",
   "metadata": {},
   "outputs": [],
   "source": [
    "from sklearn.ensemble import RandomForestClassifier\n",
    "\n",
    "rf_pca = RandomForestClassifier()\n",
    "rf_pca.fit(X_train_pca, y_train)"
   ]
  },
  {
   "cell_type": "markdown",
   "id": "f0e3f648",
   "metadata": {},
   "source": [
    "Running time is approximately 25 minutes."
   ]
  },
  {
   "cell_type": "code",
   "execution_count": 41,
   "id": "2010a022",
   "metadata": {},
   "outputs": [],
   "source": [
    "# Save Model\n",
    "#joblib.dump(rf_pca, './models/RF_PCA.pkl')\n",
    "\n",
    "# Load Model\n",
    "rf_pca = joblib.load('./models/RF_PCA.pkl')"
   ]
  },
  {
   "cell_type": "code",
   "execution_count": 42,
   "id": "8176fe74",
   "metadata": {},
   "outputs": [],
   "source": [
    "rf_predicted_pca = rf_pca.predict(X_test_pca)"
   ]
  },
  {
   "cell_type": "code",
   "execution_count": 43,
   "id": "5422b258",
   "metadata": {
    "scrolled": true
   },
   "outputs": [
    {
     "data": {
      "text/plain": [
       "array([[191239,  10095],\n",
       "       [ 12868,  46122]])"
      ]
     },
     "execution_count": 43,
     "metadata": {},
     "output_type": "execute_result"
    }
   ],
   "source": [
    "confusion_matrix(y_test, rf_predicted_pca)"
   ]
  },
  {
   "cell_type": "code",
   "execution_count": 44,
   "id": "e08a9a12",
   "metadata": {},
   "outputs": [
    {
     "name": "stdout",
     "output_type": "stream",
     "text": [
      "RF_PCA Results\n",
      "Accuracy:  0.9117906915996988\n",
      "F1 Score:  0.800680514204866\n",
      "Precision:  0.820427984417525\n",
      "Recall:  0.7818613324292253\n"
     ]
    },
    {
     "data": {
      "text/html": [
       "<div>\n",
       "<style scoped>\n",
       "    .dataframe tbody tr th:only-of-type {\n",
       "        vertical-align: middle;\n",
       "    }\n",
       "\n",
       "    .dataframe tbody tr th {\n",
       "        vertical-align: top;\n",
       "    }\n",
       "\n",
       "    .dataframe thead th {\n",
       "        text-align: right;\n",
       "    }\n",
       "</style>\n",
       "<table border=\"1\" class=\"dataframe\">\n",
       "  <thead>\n",
       "    <tr style=\"text-align: right;\">\n",
       "      <th></th>\n",
       "      <th>Logit</th>\n",
       "      <th>NB</th>\n",
       "      <th>DT</th>\n",
       "      <th>RF</th>\n",
       "      <th>Logit_PCA</th>\n",
       "      <th>NB_PCA</th>\n",
       "      <th>DT_PCA</th>\n",
       "      <th>RF_PCA</th>\n",
       "    </tr>\n",
       "  </thead>\n",
       "  <tbody>\n",
       "    <tr>\n",
       "      <th>Accuracy</th>\n",
       "      <td>0.890152</td>\n",
       "      <td>0.860389</td>\n",
       "      <td>0.862033</td>\n",
       "      <td>0.908353</td>\n",
       "      <td>0.880426</td>\n",
       "      <td>0.837864</td>\n",
       "      <td>0.859341</td>\n",
       "      <td>0.911791</td>\n",
       "    </tr>\n",
       "    <tr>\n",
       "      <th>F1 Score</th>\n",
       "      <td>0.750402</td>\n",
       "      <td>0.706927</td>\n",
       "      <td>0.695627</td>\n",
       "      <td>0.795428</td>\n",
       "      <td>0.723665</td>\n",
       "      <td>0.556518</td>\n",
       "      <td>0.690701</td>\n",
       "      <td>0.800681</td>\n",
       "    </tr>\n",
       "    <tr>\n",
       "      <th>Precision</th>\n",
       "      <td>0.773436</td>\n",
       "      <td>0.674146</td>\n",
       "      <td>0.695509</td>\n",
       "      <td>0.804785</td>\n",
       "      <td>0.759635</td>\n",
       "      <td>0.731898</td>\n",
       "      <td>0.688334</td>\n",
       "      <td>0.820428</td>\n",
       "    </tr>\n",
       "    <tr>\n",
       "      <th>Recall</th>\n",
       "      <td>0.728700</td>\n",
       "      <td>0.743058</td>\n",
       "      <td>0.695745</td>\n",
       "      <td>0.786286</td>\n",
       "      <td>0.690948</td>\n",
       "      <td>0.448940</td>\n",
       "      <td>0.693084</td>\n",
       "      <td>0.781861</td>\n",
       "    </tr>\n",
       "  </tbody>\n",
       "</table>\n",
       "</div>"
      ],
      "text/plain": [
       "              Logit        NB        DT        RF  Logit_PCA    NB_PCA  \\\n",
       "Accuracy   0.890152  0.860389  0.862033  0.908353   0.880426  0.837864   \n",
       "F1 Score   0.750402  0.706927  0.695627  0.795428   0.723665  0.556518   \n",
       "Precision  0.773436  0.674146  0.695509  0.804785   0.759635  0.731898   \n",
       "Recall     0.728700  0.743058  0.695745  0.786286   0.690948  0.448940   \n",
       "\n",
       "             DT_PCA    RF_PCA  \n",
       "Accuracy   0.859341  0.911791  \n",
       "F1 Score   0.690701  0.800681  \n",
       "Precision  0.688334  0.820428  \n",
       "Recall     0.693084  0.781861  "
      ]
     },
     "metadata": {},
     "output_type": "display_data"
    }
   ],
   "source": [
    "my_eval('RF_PCA',y_test,rf_predicted_pca)"
   ]
  },
  {
   "cell_type": "markdown",
   "id": "f978ac06",
   "metadata": {},
   "source": [
    "---\n",
    "# 2. Performance Graph Comparison\n",
    "---"
   ]
  },
  {
   "cell_type": "code",
   "execution_count": 45,
   "id": "42fb130b",
   "metadata": {},
   "outputs": [],
   "source": [
    "df_model_compare.to_csv('./eval_results/eval_results_with_PCA.csv')"
   ]
  },
  {
   "cell_type": "code",
   "execution_count": 46,
   "id": "b076da64",
   "metadata": {
    "scrolled": false
   },
   "outputs": [
    {
     "data": {
      "image/png": "[encoded data removed]",
      "text/plain": [
       "<Figure size 864x504 with 1 Axes>"
      ]
     },
     "metadata": {
      "image/png": {
       "height": 437,
       "width": 799
      },
      "needs_background": "light"
     },
     "output_type": "display_data"
    }
   ],
   "source": [
    "cmap1 = plt.cm.Reds\n",
    "cmap2 = plt.cm.Greens\n",
    "colors = [*cmap1(np.linspace(.8, .1, 4)),\n",
    "          *cmap2(np.linspace(.8, .1, 4)),]\n",
    "\n",
    "ax = df_model_compare.plot(\n",
    "    kind='bar', color=colors, rot=0,\n",
    "    ylim=(0,1), figsize = (12,7), fontsize=15\n",
    ")\n",
    "ax.set_axisbelow(True)\n",
    "ax.grid(linestyle='-', axis='y')\n",
    "ax.legend(fontsize=12, loc='center', bbox_to_anchor=(1.05,0.5))\n",
    "\n",
    "plt.minorticks_on()\n",
    "plt.grid(which='minor', axis='y',ls=':')\n",
    "plt.title('Performance Graph Comparison (Baseline vs PCA)', fontsize=20)\n",
    "plt.savefig('./img/graph_PCA')\n",
    "plt.show()"
   ]
  },
  {
   "cell_type": "markdown",
   "id": "da1fbf44",
   "metadata": {},
   "source": [
    "After the PCA was performed, the performance did not decrease significantly, except for the Naive Bayes that F1 and Recall scores decreased significantly."
   ]
  },
  {
   "cell_type": "code",
   "execution_count": 47,
   "id": "c48c9ee5",
   "metadata": {},
   "outputs": [],
   "source": [
    "columns = ['Logit','NB','DT','RF']\n",
    "rows = ['Baseline','PCA (n=30)']\n",
    "values = [[5,0.08,20,60],[0.33,0.02,2,25]]\n",
    "\n",
    "df_running_time = pd.DataFrame(values,rows,columns)"
   ]
  },
  {
   "cell_type": "code",
   "execution_count": 48,
   "id": "62ff1699",
   "metadata": {
    "scrolled": false
   },
   "outputs": [
    {
     "data": {
      "image/png": "[encoded data removed]",
      "text/plain": [
       "<Figure size 864x504 with 1 Axes>"
      ]
     },
     "metadata": {
      "image/png": {
       "height": 437,
       "width": 710
      },
      "needs_background": "light"
     },
     "output_type": "display_data"
    }
   ],
   "source": [
    "ax = df_running_time.T.plot(\n",
    "    kind='bar', color=['pink','lime'], rot=0,\n",
    "    figsize = (12,7), fontsize=15\n",
    ")\n",
    "ax.set_axisbelow(True)\n",
    "ax.grid(linestyle='-', axis='y')\n",
    "ax.legend(fontsize=12)\n",
    "\n",
    "plt.minorticks_on()\n",
    "plt.grid(which='minor', axis='y',ls=':')\n",
    "plt.title('Training Time Comparison (minutes)', fontsize=20)\n",
    "plt.savefig('./img/running_time_PCA')\n",
    "plt.show()"
   ]
  },
  {
   "cell_type": "markdown",
   "id": "14cd418d",
   "metadata": {},
   "source": [
    "Running on Intel Core i5-8250U 1.8GHz 4 cores 8 threads"
   ]
  },
  {
   "cell_type": "markdown",
   "id": "10a7d2bd",
   "metadata": {},
   "source": [
    "---\n",
    "# Kindly continue on the next notebook: (3 of 3) LDA"
   ]
  },
  {
   "cell_type": "code",
   "execution_count": null,
   "id": "cad8c358",
   "metadata": {},
   "outputs": [],
   "source": []
  }
 ],
 "metadata": {
  "kernelspec": {
   "display_name": "Python 3 (ipykernel)",
   "language": "python",
   "name": "python3"
  },
  "language_info": {
   "codemirror_mode": {
    "name": "ipython",
    "version": 3
   },
   "file_extension": ".py",
   "mimetype": "text/x-python",
   "name": "python",
   "nbconvert_exporter": "python",
   "pygments_lexer": "ipython3",
   "version": "3.11.5"
  }
 },
 "nbformat": 4,
 "nbformat_minor": 5
}
