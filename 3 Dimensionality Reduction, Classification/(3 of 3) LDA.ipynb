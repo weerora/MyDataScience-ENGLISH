{
 "cells": [
  {
   "cell_type": "markdown",
   "id": "7a436899",
   "metadata": {},
   "source": [
    "# (3 of 3) LDA\n",
    "---\n",
    "# AMEX Default\n",
    "# Dimensionality Reduction: PCA, LDA\n",
    "### (For future use by Classification Algorithms)\n",
    "---"
   ]
  },
  {
   "cell_type": "code",
   "execution_count": 1,
   "id": "497e8299",
   "metadata": {},
   "outputs": [
    {
     "data": {
      "text/plain": [
       "'3.8.8 (default, Apr 13 2021, 19:58:26) \\n[GCC 7.3.0]'"
      ]
     },
     "execution_count": 1,
     "metadata": {},
     "output_type": "execute_result"
    }
   ],
   "source": [
    "import sys\n",
    "sys.version"
   ]
  },
  {
   "cell_type": "code",
   "execution_count": 2,
   "id": "eac50817",
   "metadata": {},
   "outputs": [],
   "source": [
    "import pandas as pd\n",
    "import numpy as np\n",
    "import matplotlib.pyplot as plt\n",
    "import seaborn as sns\n",
    "import plotly.express as px\n",
    "import joblib\n",
    "\n",
    "%matplotlib inline\n",
    "%config InlineBackend.figure_format = 'retina'"
   ]
  },
  {
   "cell_type": "code",
   "execution_count": 3,
   "id": "e84045c7",
   "metadata": {},
   "outputs": [],
   "source": [
    "df = pd.read_parquet('./dataset/train_data.parquet')"
   ]
  },
  {
   "cell_type": "code",
   "execution_count": 4,
   "id": "04dc639e",
   "metadata": {},
   "outputs": [],
   "source": [
    "df['S_2'] = pd.to_datetime(df['S_2'], format='%Y/%m/%d')"
   ]
  },
  {
   "cell_type": "code",
   "execution_count": 5,
   "id": "60d73b71",
   "metadata": {},
   "outputs": [],
   "source": [
    "category_cols = ['B_30','B_38','D_114','D_116','D_117','D_120','D_126','D_63','D_64','D_66','D_68']\n",
    "\n",
    "for col in category_cols:\n",
    "    df[col] = df[col].astype('category')"
   ]
  },
  {
   "cell_type": "code",
   "execution_count": 6,
   "id": "7395bb34",
   "metadata": {},
   "outputs": [],
   "source": [
    "my_dictionary = {'CO':0,'CR':1,'CL':2,'XL':3,'XZ':4,'XM':5}\n",
    "df['D_63'] = df['D_63'].map(my_dictionary)"
   ]
  },
  {
   "cell_type": "code",
   "execution_count": 7,
   "id": "077e91d1",
   "metadata": {},
   "outputs": [],
   "source": [
    "my_dictionary = {'O':0,'R':1,'U':2,'-1':3}\n",
    "df['D_64'] = df['D_64'].map(my_dictionary)"
   ]
  },
  {
   "cell_type": "code",
   "execution_count": 8,
   "id": "5408dd52",
   "metadata": {},
   "outputs": [],
   "source": [
    "percent_missing = df.isnull().sum() * 100 / len(df)\n",
    "df_missing_val = pd.DataFrame({'column_name': df.columns,\n",
    "                                 'percent_missing': percent_missing})"
   ]
  },
  {
   "cell_type": "code",
   "execution_count": 9,
   "id": "a916ecd3",
   "metadata": {},
   "outputs": [],
   "source": [
    "df.drop(\n",
    "    columns=df_missing_val.loc[\n",
    "        df_missing_val.percent_missing > 50\n",
    "    ].index, inplace=True, errors='ignore'\n",
    ")"
   ]
  },
  {
   "cell_type": "code",
   "execution_count": 10,
   "id": "d75b8677",
   "metadata": {},
   "outputs": [],
   "source": [
    "df.dropna(inplace=True)"
   ]
  },
  {
   "cell_type": "markdown",
   "id": "e7fa79c6",
   "metadata": {},
   "source": [
    "### Train/Test split with the 80:20 ratio"
   ]
  },
  {
   "cell_type": "code",
   "execution_count": 11,
   "id": "e80bf679",
   "metadata": {},
   "outputs": [],
   "source": [
    "X = df.drop(['target','customer_ID','S_2'],axis=1)\n",
    "y = df['target']"
   ]
  },
  {
   "cell_type": "code",
   "execution_count": 12,
   "id": "d8a7b402",
   "metadata": {},
   "outputs": [],
   "source": [
    "from sklearn.model_selection import train_test_split"
   ]
  },
  {
   "cell_type": "code",
   "execution_count": 13,
   "id": "7a8d52c7",
   "metadata": {},
   "outputs": [],
   "source": [
    "X_train, X_test, y_train, y_test = train_test_split(X, y, test_size=0.2, random_state=55)"
   ]
  },
  {
   "cell_type": "code",
   "execution_count": 14,
   "id": "7f6bcfd2",
   "metadata": {
    "scrolled": true
   },
   "outputs": [
    {
     "name": "stdout",
     "output_type": "stream",
     "text": [
      "(1041295, 158)\n",
      "(260324, 158)\n",
      "(1041295,)\n",
      "(260324,)\n"
     ]
    }
   ],
   "source": [
    "print(X_train.shape)\n",
    "print(X_test.shape)\n",
    "print(y_train.shape)\n",
    "print(y_test.shape)"
   ]
  },
  {
   "cell_type": "markdown",
   "id": "f3f9cf79",
   "metadata": {},
   "source": [
    "#### This evaluation function will collect the evaluation values for future use in performance graph comparison."
   ]
  },
  {
   "cell_type": "code",
   "execution_count": 15,
   "id": "9a41bbf9",
   "metadata": {},
   "outputs": [],
   "source": [
    "df_model_compare = pd.read_csv('./eval_results/eval_results_with_PCA.csv',index_col=0)"
   ]
  },
  {
   "cell_type": "code",
   "execution_count": 16,
   "id": "2fd72aa8",
   "metadata": {},
   "outputs": [],
   "source": [
    "acc = df_model_compare.loc['Accuracy'].to_dict()\n",
    "f1 = df_model_compare.loc['F1 Score'].to_dict()\n",
    "prec = df_model_compare.loc['Precision'].to_dict()\n",
    "recl = df_model_compare.loc['Recall'].to_dict()\n",
    "\n",
    "def my_eval(model,y_test,predicted):\n",
    "    \n",
    "    print(model,'Results')\n",
    "    print('Accuracy: ', accuracy_score(y_test, predicted))\n",
    "    print('F1 Score: ', f1_score(y_test, predicted))\n",
    "    print('Precision: ', precision_score(y_test, predicted))\n",
    "    print('Recall: ', recall_score(y_test, predicted))\n",
    "    \n",
    "    acc[model] = accuracy_score(y_test, predicted)\n",
    "    f1[model] = f1_score(y_test, predicted)\n",
    "    prec[model] = precision_score(y_test, predicted)\n",
    "    recl[model] = recall_score(y_test, predicted)\n",
    "    \n",
    "    global df_model_compare\n",
    "    df_model_compare = pd.DataFrame.from_dict(\n",
    "        [acc,f1,prec,recl]\n",
    "    ).rename(\n",
    "        index={0:'Accuracy',1:'F1 Score',2:'Precision',3:'Recall'}\n",
    "    )\n",
    "    display(df_model_compare)"
   ]
  },
  {
   "cell_type": "markdown",
   "id": "af9d3a74",
   "metadata": {},
   "source": [
    "---\n",
    "# 1. Linear Discriminant Analysis (LDA)\n",
    "---"
   ]
  },
  {
   "cell_type": "code",
   "execution_count": 17,
   "id": "45cbb8eb",
   "metadata": {},
   "outputs": [],
   "source": [
    "from sklearn.discriminant_analysis import LinearDiscriminantAnalysis as LDA"
   ]
  },
  {
   "cell_type": "markdown",
   "id": "d812fad1",
   "metadata": {},
   "source": [
    "With the limitation of this dataset that has only 2 classes, we can set the \"n_components=1\" only. Therefore, we can only visualize one dimension."
   ]
  },
  {
   "cell_type": "code",
   "execution_count": 18,
   "id": "9ad60e8d",
   "metadata": {},
   "outputs": [],
   "source": [
    "lda = LDA(n_components=1)\n",
    "# n_components can't be larger than n-feature or n-class - 1"
   ]
  },
  {
   "cell_type": "code",
   "execution_count": 19,
   "id": "0166bafd",
   "metadata": {},
   "outputs": [],
   "source": [
    "X_train_lda = lda.fit_transform(X_train, y_train)\n",
    "X_test_lda = lda.transform(X_test)"
   ]
  },
  {
   "cell_type": "markdown",
   "id": "08b4ad12",
   "metadata": {},
   "source": [
    "### LDA visualization"
   ]
  },
  {
   "cell_type": "code",
   "execution_count": 20,
   "id": "299a0621",
   "metadata": {},
   "outputs": [
    {
     "data": {
      "image/png": "[encoded data removed]",
      "text/plain": [
       "<Figure size 864x144 with 1 Axes>"
      ]
     },
     "metadata": {
      "image/png": {
       "height": 156,
       "width": 715
      },
      "needs_background": "light"
     },
     "output_type": "display_data"
    }
   ],
   "source": [
    "plt.figure(figsize=(12,2))\n",
    "plt.scatter(X_train_lda[:,0],\n",
    "            np.zeros(X_train_lda.size),\n",
    "            c=y_train,cmap='cool', alpha=0.1)\n",
    "plt.xlabel('LDA 1')\n",
    "plt.ylim(-1,1)\n",
    "\n",
    "plt.grid(axis='x')"
   ]
  },
  {
   "cell_type": "code",
   "execution_count": 21,
   "id": "023eee84",
   "metadata": {},
   "outputs": [],
   "source": [
    "from sklearn.metrics import confusion_matrix, accuracy_score, f1_score, precision_score, recall_score"
   ]
  },
  {
   "cell_type": "markdown",
   "id": "e2899dfc",
   "metadata": {},
   "source": [
    "## 1.1 Logistic Regression with LDA"
   ]
  },
  {
   "cell_type": "code",
   "execution_count": 22,
   "id": "1a3daa3f",
   "metadata": {},
   "outputs": [
    {
     "data": {
      "text/plain": [
       "LogisticRegression(max_iter=1000)"
      ]
     },
     "execution_count": 22,
     "metadata": {},
     "output_type": "execute_result"
    }
   ],
   "source": [
    "from sklearn.linear_model import LogisticRegression\n",
    "\n",
    "# max_iter=1000 same arg as the previous notebook, PCA\n",
    "logistic_classifier_lda = LogisticRegression(max_iter=1000)\n",
    "logistic_classifier_lda.fit(X_train_lda, y_train)"
   ]
  },
  {
   "cell_type": "markdown",
   "id": "a360337e",
   "metadata": {},
   "source": [
    "Running time is approximately 1 second."
   ]
  },
  {
   "cell_type": "code",
   "execution_count": 23,
   "id": "7a4c426a",
   "metadata": {},
   "outputs": [],
   "source": [
    "# Save Model\n",
    "#joblib.dump(logistic_classifier_lda, './models/Logit_LDA.pkl')\n",
    "\n",
    "# Load Model\n",
    "logistic_classifier_lda = joblib.load('./models/Logit_LDA.pkl')"
   ]
  },
  {
   "cell_type": "code",
   "execution_count": 24,
   "id": "1c6e29ac",
   "metadata": {},
   "outputs": [],
   "source": [
    "logistic_predicted_lda = logistic_classifier_lda.predict(X_test_lda)"
   ]
  },
  {
   "cell_type": "code",
   "execution_count": 25,
   "id": "7980e044",
   "metadata": {
    "scrolled": false
   },
   "outputs": [
    {
     "data": {
      "text/plain": [
       "array([[189665,  11669],\n",
       "       [ 17518,  41472]])"
      ]
     },
     "execution_count": 25,
     "metadata": {},
     "output_type": "execute_result"
    }
   ],
   "source": [
    "confusion_matrix(y_test, logistic_predicted_lda)"
   ]
  },
  {
   "cell_type": "markdown",
   "id": "09b7487c",
   "metadata": {},
   "source": [
    "[ TN FP ]  \n",
    "[ FN TP ]\n",
    "\n",
    "TP (Predict as default; the truth is default)  \n",
    "TN (Predict as not default; the truth is not default)  \n",
    "FP (Predict as default; the truth is not default)  \n",
    "FN (Predict as not default; the truth is default)"
   ]
  },
  {
   "cell_type": "code",
   "execution_count": 26,
   "id": "11a046ce",
   "metadata": {},
   "outputs": [
    {
     "name": "stdout",
     "output_type": "stream",
     "text": [
      "Logit_LDA Results\n",
      "Accuracy:  0.8878820239393986\n",
      "F1 Score:  0.7397062364555742\n",
      "Precision:  0.7804143693193579\n",
      "Recall:  0.7030344126123071\n"
     ]
    },
    {
     "data": {
      "text/html": [
       "<div>\n",
       "<style scoped>\n",
       "    .dataframe tbody tr th:only-of-type {\n",
       "        vertical-align: middle;\n",
       "    }\n",
       "\n",
       "    .dataframe tbody tr th {\n",
       "        vertical-align: top;\n",
       "    }\n",
       "\n",
       "    .dataframe thead th {\n",
       "        text-align: right;\n",
       "    }\n",
       "</style>\n",
       "<table border=\"1\" class=\"dataframe\">\n",
       "  <thead>\n",
       "    <tr style=\"text-align: right;\">\n",
       "      <th></th>\n",
       "      <th>Logit</th>\n",
       "      <th>NB</th>\n",
       "      <th>DT</th>\n",
       "      <th>RF</th>\n",
       "      <th>Logit_PCA</th>\n",
       "      <th>NB_PCA</th>\n",
       "      <th>DT_PCA</th>\n",
       "      <th>RF_PCA</th>\n",
       "      <th>Logit_LDA</th>\n",
       "    </tr>\n",
       "  </thead>\n",
       "  <tbody>\n",
       "    <tr>\n",
       "      <th>Accuracy</th>\n",
       "      <td>0.890152</td>\n",
       "      <td>0.860389</td>\n",
       "      <td>0.862033</td>\n",
       "      <td>0.908353</td>\n",
       "      <td>0.880426</td>\n",
       "      <td>0.837864</td>\n",
       "      <td>0.859341</td>\n",
       "      <td>0.911791</td>\n",
       "      <td>0.887882</td>\n",
       "    </tr>\n",
       "    <tr>\n",
       "      <th>F1 Score</th>\n",
       "      <td>0.750402</td>\n",
       "      <td>0.706927</td>\n",
       "      <td>0.695627</td>\n",
       "      <td>0.795428</td>\n",
       "      <td>0.723665</td>\n",
       "      <td>0.556518</td>\n",
       "      <td>0.690701</td>\n",
       "      <td>0.800681</td>\n",
       "      <td>0.739706</td>\n",
       "    </tr>\n",
       "    <tr>\n",
       "      <th>Precision</th>\n",
       "      <td>0.773436</td>\n",
       "      <td>0.674146</td>\n",
       "      <td>0.695509</td>\n",
       "      <td>0.804785</td>\n",
       "      <td>0.759635</td>\n",
       "      <td>0.731898</td>\n",
       "      <td>0.688334</td>\n",
       "      <td>0.820428</td>\n",
       "      <td>0.780414</td>\n",
       "    </tr>\n",
       "    <tr>\n",
       "      <th>Recall</th>\n",
       "      <td>0.728700</td>\n",
       "      <td>0.743058</td>\n",
       "      <td>0.695745</td>\n",
       "      <td>0.786286</td>\n",
       "      <td>0.690948</td>\n",
       "      <td>0.448940</td>\n",
       "      <td>0.693084</td>\n",
       "      <td>0.781861</td>\n",
       "      <td>0.703034</td>\n",
       "    </tr>\n",
       "  </tbody>\n",
       "</table>\n",
       "</div>"
      ],
      "text/plain": [
       "              Logit        NB        DT        RF  Logit_PCA    NB_PCA  \\\n",
       "Accuracy   0.890152  0.860389  0.862033  0.908353   0.880426  0.837864   \n",
       "F1 Score   0.750402  0.706927  0.695627  0.795428   0.723665  0.556518   \n",
       "Precision  0.773436  0.674146  0.695509  0.804785   0.759635  0.731898   \n",
       "Recall     0.728700  0.743058  0.695745  0.786286   0.690948  0.448940   \n",
       "\n",
       "             DT_PCA    RF_PCA  Logit_LDA  \n",
       "Accuracy   0.859341  0.911791   0.887882  \n",
       "F1 Score   0.690701  0.800681   0.739706  \n",
       "Precision  0.688334  0.820428   0.780414  \n",
       "Recall     0.693084  0.781861   0.703034  "
      ]
     },
     "metadata": {},
     "output_type": "display_data"
    }
   ],
   "source": [
    "my_eval('Logit_LDA',y_test,logistic_predicted_lda)"
   ]
  },
  {
   "cell_type": "markdown",
   "id": "aca013fe",
   "metadata": {},
   "source": [
    "## 1.2 Naive Bayes with LDA"
   ]
  },
  {
   "cell_type": "code",
   "execution_count": 27,
   "id": "23c58e10",
   "metadata": {},
   "outputs": [
    {
     "data": {
      "text/plain": [
       "GaussianNB()"
      ]
     },
     "execution_count": 27,
     "metadata": {},
     "output_type": "execute_result"
    }
   ],
   "source": [
    "from sklearn.naive_bayes import GaussianNB\n",
    "\n",
    "nb_lda = GaussianNB()\n",
    "nb_lda.fit(X_train_lda, y_train)"
   ]
  },
  {
   "cell_type": "markdown",
   "id": "ec620fc9",
   "metadata": {},
   "source": [
    "Running time is approximately 1 second."
   ]
  },
  {
   "cell_type": "code",
   "execution_count": 28,
   "id": "7ae4a0b1",
   "metadata": {},
   "outputs": [],
   "source": [
    "# Save Model\n",
    "#joblib.dump(nb_lda, './models/NB_LDA.pkl')\n",
    "\n",
    "# Load Model\n",
    "nb_lda = joblib.load('./models/NB_LDA.pkl')"
   ]
  },
  {
   "cell_type": "code",
   "execution_count": 29,
   "id": "3f289ca2",
   "metadata": {},
   "outputs": [],
   "source": [
    "nb_predicted_lda = nb_lda.predict(X_test_lda)"
   ]
  },
  {
   "cell_type": "code",
   "execution_count": 30,
   "id": "b368b472",
   "metadata": {},
   "outputs": [
    {
     "data": {
      "text/plain": [
       "array([[187702,  13632],\n",
       "       [ 15297,  43693]])"
      ]
     },
     "execution_count": 30,
     "metadata": {},
     "output_type": "execute_result"
    }
   ],
   "source": [
    "confusion_matrix(y_test, nb_predicted_lda)"
   ]
  },
  {
   "cell_type": "code",
   "execution_count": 31,
   "id": "8fdd2d80",
   "metadata": {},
   "outputs": [
    {
     "name": "stdout",
     "output_type": "stream",
     "text": [
      "NB_LDA Results\n",
      "Accuracy:  0.8888730966026951\n",
      "F1 Score:  0.7512874521772772\n",
      "Precision:  0.7621979938944614\n",
      "Recall:  0.74068486184099\n"
     ]
    },
    {
     "data": {
      "text/html": [
       "<div>\n",
       "<style scoped>\n",
       "    .dataframe tbody tr th:only-of-type {\n",
       "        vertical-align: middle;\n",
       "    }\n",
       "\n",
       "    .dataframe tbody tr th {\n",
       "        vertical-align: top;\n",
       "    }\n",
       "\n",
       "    .dataframe thead th {\n",
       "        text-align: right;\n",
       "    }\n",
       "</style>\n",
       "<table border=\"1\" class=\"dataframe\">\n",
       "  <thead>\n",
       "    <tr style=\"text-align: right;\">\n",
       "      <th></th>\n",
       "      <th>Logit</th>\n",
       "      <th>NB</th>\n",
       "      <th>DT</th>\n",
       "      <th>RF</th>\n",
       "      <th>Logit_PCA</th>\n",
       "      <th>NB_PCA</th>\n",
       "      <th>DT_PCA</th>\n",
       "      <th>RF_PCA</th>\n",
       "      <th>Logit_LDA</th>\n",
       "      <th>NB_LDA</th>\n",
       "    </tr>\n",
       "  </thead>\n",
       "  <tbody>\n",
       "    <tr>\n",
       "      <th>Accuracy</th>\n",
       "      <td>0.890152</td>\n",
       "      <td>0.860389</td>\n",
       "      <td>0.862033</td>\n",
       "      <td>0.908353</td>\n",
       "      <td>0.880426</td>\n",
       "      <td>0.837864</td>\n",
       "      <td>0.859341</td>\n",
       "      <td>0.911791</td>\n",
       "      <td>0.887882</td>\n",
       "      <td>0.888873</td>\n",
       "    </tr>\n",
       "    <tr>\n",
       "      <th>F1 Score</th>\n",
       "      <td>0.750402</td>\n",
       "      <td>0.706927</td>\n",
       "      <td>0.695627</td>\n",
       "      <td>0.795428</td>\n",
       "      <td>0.723665</td>\n",
       "      <td>0.556518</td>\n",
       "      <td>0.690701</td>\n",
       "      <td>0.800681</td>\n",
       "      <td>0.739706</td>\n",
       "      <td>0.751287</td>\n",
       "    </tr>\n",
       "    <tr>\n",
       "      <th>Precision</th>\n",
       "      <td>0.773436</td>\n",
       "      <td>0.674146</td>\n",
       "      <td>0.695509</td>\n",
       "      <td>0.804785</td>\n",
       "      <td>0.759635</td>\n",
       "      <td>0.731898</td>\n",
       "      <td>0.688334</td>\n",
       "      <td>0.820428</td>\n",
       "      <td>0.780414</td>\n",
       "      <td>0.762198</td>\n",
       "    </tr>\n",
       "    <tr>\n",
       "      <th>Recall</th>\n",
       "      <td>0.728700</td>\n",
       "      <td>0.743058</td>\n",
       "      <td>0.695745</td>\n",
       "      <td>0.786286</td>\n",
       "      <td>0.690948</td>\n",
       "      <td>0.448940</td>\n",
       "      <td>0.693084</td>\n",
       "      <td>0.781861</td>\n",
       "      <td>0.703034</td>\n",
       "      <td>0.740685</td>\n",
       "    </tr>\n",
       "  </tbody>\n",
       "</table>\n",
       "</div>"
      ],
      "text/plain": [
       "              Logit        NB        DT        RF  Logit_PCA    NB_PCA  \\\n",
       "Accuracy   0.890152  0.860389  0.862033  0.908353   0.880426  0.837864   \n",
       "F1 Score   0.750402  0.706927  0.695627  0.795428   0.723665  0.556518   \n",
       "Precision  0.773436  0.674146  0.695509  0.804785   0.759635  0.731898   \n",
       "Recall     0.728700  0.743058  0.695745  0.786286   0.690948  0.448940   \n",
       "\n",
       "             DT_PCA    RF_PCA  Logit_LDA    NB_LDA  \n",
       "Accuracy   0.859341  0.911791   0.887882  0.888873  \n",
       "F1 Score   0.690701  0.800681   0.739706  0.751287  \n",
       "Precision  0.688334  0.820428   0.780414  0.762198  \n",
       "Recall     0.693084  0.781861   0.703034  0.740685  "
      ]
     },
     "metadata": {},
     "output_type": "display_data"
    }
   ],
   "source": [
    "my_eval('NB_LDA',y_test,nb_predicted_lda)"
   ]
  },
  {
   "cell_type": "markdown",
   "id": "693e21f8",
   "metadata": {},
   "source": [
    "## 1.3 Decision Tree with LDA"
   ]
  },
  {
   "cell_type": "code",
   "execution_count": 32,
   "id": "448b9d32",
   "metadata": {},
   "outputs": [
    {
     "data": {
      "text/plain": [
       "DecisionTreeClassifier()"
      ]
     },
     "execution_count": 32,
     "metadata": {},
     "output_type": "execute_result"
    }
   ],
   "source": [
    "from sklearn.tree import DecisionTreeClassifier\n",
    "\n",
    "dtree_lda = DecisionTreeClassifier()\n",
    "dtree_lda.fit(X_train_lda, y_train)"
   ]
  },
  {
   "cell_type": "markdown",
   "id": "11e9ac76",
   "metadata": {},
   "source": [
    "Running time is approximately 8 seconds."
   ]
  },
  {
   "cell_type": "code",
   "execution_count": 33,
   "id": "d9aadc72",
   "metadata": {},
   "outputs": [],
   "source": [
    "# Save Model\n",
    "#joblib.dump(dtree_lda, './models/DT_LDA.pkl')\n",
    "\n",
    "# Load Model\n",
    "dtree_lda = joblib.load('./models/DT_LDA.pkl')"
   ]
  },
  {
   "cell_type": "code",
   "execution_count": 34,
   "id": "56857be6",
   "metadata": {},
   "outputs": [],
   "source": [
    "dtree_predicted_lda = dtree_lda.predict(X_test_lda)"
   ]
  },
  {
   "cell_type": "code",
   "execution_count": 35,
   "id": "4069d6fe",
   "metadata": {},
   "outputs": [
    {
     "data": {
      "text/plain": [
       "array([[181329,  20005],\n",
       "       [ 20394,  38596]])"
      ]
     },
     "execution_count": 35,
     "metadata": {},
     "output_type": "execute_result"
    }
   ],
   "source": [
    "confusion_matrix(y_test, dtree_predicted_lda)"
   ]
  },
  {
   "cell_type": "code",
   "execution_count": 36,
   "id": "311ec1d4",
   "metadata": {},
   "outputs": [
    {
     "name": "stdout",
     "output_type": "stream",
     "text": [
      "DT_LDA Results\n",
      "Accuracy:  0.8448126181220326\n",
      "F1 Score:  0.656444795945268\n",
      "Precision:  0.6586235729765704\n",
      "Recall:  0.6542803865061875\n"
     ]
    },
    {
     "data": {
      "text/html": [
       "<div>\n",
       "<style scoped>\n",
       "    .dataframe tbody tr th:only-of-type {\n",
       "        vertical-align: middle;\n",
       "    }\n",
       "\n",
       "    .dataframe tbody tr th {\n",
       "        vertical-align: top;\n",
       "    }\n",
       "\n",
       "    .dataframe thead th {\n",
       "        text-align: right;\n",
       "    }\n",
       "</style>\n",
       "<table border=\"1\" class=\"dataframe\">\n",
       "  <thead>\n",
       "    <tr style=\"text-align: right;\">\n",
       "      <th></th>\n",
       "      <th>Logit</th>\n",
       "      <th>NB</th>\n",
       "      <th>DT</th>\n",
       "      <th>RF</th>\n",
       "      <th>Logit_PCA</th>\n",
       "      <th>NB_PCA</th>\n",
       "      <th>DT_PCA</th>\n",
       "      <th>RF_PCA</th>\n",
       "      <th>Logit_LDA</th>\n",
       "      <th>NB_LDA</th>\n",
       "      <th>DT_LDA</th>\n",
       "    </tr>\n",
       "  </thead>\n",
       "  <tbody>\n",
       "    <tr>\n",
       "      <th>Accuracy</th>\n",
       "      <td>0.890152</td>\n",
       "      <td>0.860389</td>\n",
       "      <td>0.862033</td>\n",
       "      <td>0.908353</td>\n",
       "      <td>0.880426</td>\n",
       "      <td>0.837864</td>\n",
       "      <td>0.859341</td>\n",
       "      <td>0.911791</td>\n",
       "      <td>0.887882</td>\n",
       "      <td>0.888873</td>\n",
       "      <td>0.844813</td>\n",
       "    </tr>\n",
       "    <tr>\n",
       "      <th>F1 Score</th>\n",
       "      <td>0.750402</td>\n",
       "      <td>0.706927</td>\n",
       "      <td>0.695627</td>\n",
       "      <td>0.795428</td>\n",
       "      <td>0.723665</td>\n",
       "      <td>0.556518</td>\n",
       "      <td>0.690701</td>\n",
       "      <td>0.800681</td>\n",
       "      <td>0.739706</td>\n",
       "      <td>0.751287</td>\n",
       "      <td>0.656445</td>\n",
       "    </tr>\n",
       "    <tr>\n",
       "      <th>Precision</th>\n",
       "      <td>0.773436</td>\n",
       "      <td>0.674146</td>\n",
       "      <td>0.695509</td>\n",
       "      <td>0.804785</td>\n",
       "      <td>0.759635</td>\n",
       "      <td>0.731898</td>\n",
       "      <td>0.688334</td>\n",
       "      <td>0.820428</td>\n",
       "      <td>0.780414</td>\n",
       "      <td>0.762198</td>\n",
       "      <td>0.658624</td>\n",
       "    </tr>\n",
       "    <tr>\n",
       "      <th>Recall</th>\n",
       "      <td>0.728700</td>\n",
       "      <td>0.743058</td>\n",
       "      <td>0.695745</td>\n",
       "      <td>0.786286</td>\n",
       "      <td>0.690948</td>\n",
       "      <td>0.448940</td>\n",
       "      <td>0.693084</td>\n",
       "      <td>0.781861</td>\n",
       "      <td>0.703034</td>\n",
       "      <td>0.740685</td>\n",
       "      <td>0.654280</td>\n",
       "    </tr>\n",
       "  </tbody>\n",
       "</table>\n",
       "</div>"
      ],
      "text/plain": [
       "              Logit        NB        DT        RF  Logit_PCA    NB_PCA  \\\n",
       "Accuracy   0.890152  0.860389  0.862033  0.908353   0.880426  0.837864   \n",
       "F1 Score   0.750402  0.706927  0.695627  0.795428   0.723665  0.556518   \n",
       "Precision  0.773436  0.674146  0.695509  0.804785   0.759635  0.731898   \n",
       "Recall     0.728700  0.743058  0.695745  0.786286   0.690948  0.448940   \n",
       "\n",
       "             DT_PCA    RF_PCA  Logit_LDA    NB_LDA    DT_LDA  \n",
       "Accuracy   0.859341  0.911791   0.887882  0.888873  0.844813  \n",
       "F1 Score   0.690701  0.800681   0.739706  0.751287  0.656445  \n",
       "Precision  0.688334  0.820428   0.780414  0.762198  0.658624  \n",
       "Recall     0.693084  0.781861   0.703034  0.740685  0.654280  "
      ]
     },
     "metadata": {},
     "output_type": "display_data"
    }
   ],
   "source": [
    "my_eval('DT_LDA',y_test,dtree_predicted_lda)"
   ]
  },
  {
   "cell_type": "markdown",
   "id": "c038d6ee",
   "metadata": {},
   "source": [
    "## 1.4 Random Forest with LDA"
   ]
  },
  {
   "cell_type": "code",
   "execution_count": null,
   "id": "6d6c0f5a",
   "metadata": {},
   "outputs": [],
   "source": [
    "from sklearn.ensemble import RandomForestClassifier\n",
    "\n",
    "rf_lda = RandomForestClassifier()\n",
    "rf_lda.fit(X_train_lda, y_train)"
   ]
  },
  {
   "cell_type": "markdown",
   "id": "7f270a5d",
   "metadata": {},
   "source": [
    "Running time is approximately 8 minutes."
   ]
  },
  {
   "cell_type": "code",
   "execution_count": 37,
   "id": "a4afefbc",
   "metadata": {},
   "outputs": [],
   "source": [
    "# Save Model\n",
    "#joblib.dump(rf_lda, './models/RF_LDA.pkl')\n",
    "\n",
    "# Load Model\n",
    "rf_lda = joblib.load('./models/RF_LDA.pkl')"
   ]
  },
  {
   "cell_type": "code",
   "execution_count": 38,
   "id": "ea853d9f",
   "metadata": {},
   "outputs": [],
   "source": [
    "rf_predicted_lda = rf_lda.predict(X_test_lda)"
   ]
  },
  {
   "cell_type": "code",
   "execution_count": 39,
   "id": "bcac7bb6",
   "metadata": {},
   "outputs": [
    {
     "data": {
      "text/plain": [
       "array([[181206,  20128],\n",
       "       [ 20219,  38771]])"
      ]
     },
     "execution_count": 39,
     "metadata": {},
     "output_type": "execute_result"
    }
   ],
   "source": [
    "confusion_matrix(y_test, rf_predicted_lda)"
   ]
  },
  {
   "cell_type": "code",
   "execution_count": 40,
   "id": "9d7094c8",
   "metadata": {},
   "outputs": [
    {
     "name": "stdout",
     "output_type": "stream",
     "text": [
      "RF_LDA Results\n",
      "Accuracy:  0.8450123692014566\n",
      "F1 Score:  0.6577543282240074\n",
      "Precision:  0.6582624492775768\n",
      "Recall:  0.6572469910154264\n"
     ]
    },
    {
     "data": {
      "text/html": [
       "<div>\n",
       "<style scoped>\n",
       "    .dataframe tbody tr th:only-of-type {\n",
       "        vertical-align: middle;\n",
       "    }\n",
       "\n",
       "    .dataframe tbody tr th {\n",
       "        vertical-align: top;\n",
       "    }\n",
       "\n",
       "    .dataframe thead th {\n",
       "        text-align: right;\n",
       "    }\n",
       "</style>\n",
       "<table border=\"1\" class=\"dataframe\">\n",
       "  <thead>\n",
       "    <tr style=\"text-align: right;\">\n",
       "      <th></th>\n",
       "      <th>Logit</th>\n",
       "      <th>NB</th>\n",
       "      <th>DT</th>\n",
       "      <th>RF</th>\n",
       "      <th>Logit_PCA</th>\n",
       "      <th>NB_PCA</th>\n",
       "      <th>DT_PCA</th>\n",
       "      <th>RF_PCA</th>\n",
       "      <th>Logit_LDA</th>\n",
       "      <th>NB_LDA</th>\n",
       "      <th>DT_LDA</th>\n",
       "      <th>RF_LDA</th>\n",
       "    </tr>\n",
       "  </thead>\n",
       "  <tbody>\n",
       "    <tr>\n",
       "      <th>Accuracy</th>\n",
       "      <td>0.890152</td>\n",
       "      <td>0.860389</td>\n",
       "      <td>0.862033</td>\n",
       "      <td>0.908353</td>\n",
       "      <td>0.880426</td>\n",
       "      <td>0.837864</td>\n",
       "      <td>0.859341</td>\n",
       "      <td>0.911791</td>\n",
       "      <td>0.887882</td>\n",
       "      <td>0.888873</td>\n",
       "      <td>0.844813</td>\n",
       "      <td>0.845012</td>\n",
       "    </tr>\n",
       "    <tr>\n",
       "      <th>F1 Score</th>\n",
       "      <td>0.750402</td>\n",
       "      <td>0.706927</td>\n",
       "      <td>0.695627</td>\n",
       "      <td>0.795428</td>\n",
       "      <td>0.723665</td>\n",
       "      <td>0.556518</td>\n",
       "      <td>0.690701</td>\n",
       "      <td>0.800681</td>\n",
       "      <td>0.739706</td>\n",
       "      <td>0.751287</td>\n",
       "      <td>0.656445</td>\n",
       "      <td>0.657754</td>\n",
       "    </tr>\n",
       "    <tr>\n",
       "      <th>Precision</th>\n",
       "      <td>0.773436</td>\n",
       "      <td>0.674146</td>\n",
       "      <td>0.695509</td>\n",
       "      <td>0.804785</td>\n",
       "      <td>0.759635</td>\n",
       "      <td>0.731898</td>\n",
       "      <td>0.688334</td>\n",
       "      <td>0.820428</td>\n",
       "      <td>0.780414</td>\n",
       "      <td>0.762198</td>\n",
       "      <td>0.658624</td>\n",
       "      <td>0.658262</td>\n",
       "    </tr>\n",
       "    <tr>\n",
       "      <th>Recall</th>\n",
       "      <td>0.728700</td>\n",
       "      <td>0.743058</td>\n",
       "      <td>0.695745</td>\n",
       "      <td>0.786286</td>\n",
       "      <td>0.690948</td>\n",
       "      <td>0.448940</td>\n",
       "      <td>0.693084</td>\n",
       "      <td>0.781861</td>\n",
       "      <td>0.703034</td>\n",
       "      <td>0.740685</td>\n",
       "      <td>0.654280</td>\n",
       "      <td>0.657247</td>\n",
       "    </tr>\n",
       "  </tbody>\n",
       "</table>\n",
       "</div>"
      ],
      "text/plain": [
       "              Logit        NB        DT        RF  Logit_PCA    NB_PCA  \\\n",
       "Accuracy   0.890152  0.860389  0.862033  0.908353   0.880426  0.837864   \n",
       "F1 Score   0.750402  0.706927  0.695627  0.795428   0.723665  0.556518   \n",
       "Precision  0.773436  0.674146  0.695509  0.804785   0.759635  0.731898   \n",
       "Recall     0.728700  0.743058  0.695745  0.786286   0.690948  0.448940   \n",
       "\n",
       "             DT_PCA    RF_PCA  Logit_LDA    NB_LDA    DT_LDA    RF_LDA  \n",
       "Accuracy   0.859341  0.911791   0.887882  0.888873  0.844813  0.845012  \n",
       "F1 Score   0.690701  0.800681   0.739706  0.751287  0.656445  0.657754  \n",
       "Precision  0.688334  0.820428   0.780414  0.762198  0.658624  0.658262  \n",
       "Recall     0.693084  0.781861   0.703034  0.740685  0.654280  0.657247  "
      ]
     },
     "metadata": {},
     "output_type": "display_data"
    }
   ],
   "source": [
    "my_eval('RF_LDA',y_test,rf_predicted_lda)"
   ]
  },
  {
   "cell_type": "markdown",
   "id": "1030d424",
   "metadata": {},
   "source": [
    "---\n",
    "# 2. Performance Graph Comparison\n",
    "---"
   ]
  },
  {
   "cell_type": "code",
   "execution_count": 41,
   "id": "b25d9cae",
   "metadata": {},
   "outputs": [],
   "source": [
    "df_model_compare.to_csv('./eval_results/eval_results_with_PCA_LDA.csv')"
   ]
  },
  {
   "cell_type": "code",
   "execution_count": 42,
   "id": "1f52df1b",
   "metadata": {},
   "outputs": [
    {
     "data": {
      "image/png": "[encoded data removed]",
      "text/plain": [
       "<Figure size 864x504 with 1 Axes>"
      ]
     },
     "metadata": {
      "image/png": {
       "height": 437,
       "width": 799
      },
      "needs_background": "light"
     },
     "output_type": "display_data"
    }
   ],
   "source": [
    "cmap1 = plt.cm.Reds\n",
    "cmap2 = plt.cm.Greens\n",
    "cmap3 = plt.cm.Blues\n",
    "colors = [*cmap1(np.linspace(.8, .1, 4)),\n",
    "          *cmap2(np.linspace(.8, .1, 4)),\n",
    "          *cmap3(np.linspace(.8, .1, 4))]\n",
    "\n",
    "\n",
    "ax = df_model_compare.plot(\n",
    "    kind='bar', color=colors, rot=0,\n",
    "    ylim=(0,1), figsize = (12,7), fontsize=15\n",
    ")\n",
    "ax.set_axisbelow(True)\n",
    "ax.grid(linestyle='-', axis='y')\n",
    "ax.legend(fontsize=12, loc='center', bbox_to_anchor=(1.05,0.5))\n",
    "\n",
    "plt.minorticks_on()\n",
    "plt.grid(which='minor', axis='y',ls=':')\n",
    "plt.title('Performance Graph Comparison (Baseline vs PCA vs LDA)', fontsize=20)\n",
    "plt.savefig('./img/graph_PCA_LDA')\n",
    "plt.show()"
   ]
  },
  {
   "cell_type": "markdown",
   "id": "d9da4af6",
   "metadata": {},
   "source": [
    "After the LDA was performed, the performance did not differ greatly from the PCA.  \n",
    "\n",
    "In general, the LDA tends to give better performance since it uses \"y_train\" when creating the components. (If we use LDA with another dataset, the LDA might provide better performance than the PCA.)"
   ]
  },
  {
   "cell_type": "code",
   "execution_count": 43,
   "id": "c97c809b",
   "metadata": {},
   "outputs": [],
   "source": [
    "columns = ['Logit','NB','DT','RF']\n",
    "rows = ['Baseline','PCA (n=30)','LDA (n=1)']\n",
    "values = [[5,0.08,20,60],[0.33,0.02,2,25],[0.01,0.01,0.08,8]]\n",
    "\n",
    "df_running_time = pd.DataFrame(values,rows,columns)"
   ]
  },
  {
   "cell_type": "code",
   "execution_count": 44,
   "id": "034afeb2",
   "metadata": {},
   "outputs": [
    {
     "data": {
      "image/png": "[encoded data removed]",
      "text/plain": [
       "<Figure size 864x504 with 1 Axes>"
      ]
     },
     "metadata": {
      "image/png": {
       "height": 437,
       "width": 710
      },
      "needs_background": "light"
     },
     "output_type": "display_data"
    }
   ],
   "source": [
    "ax = df_running_time.T.plot(\n",
    "    kind='bar', color=['pink','lime','skyblue'], rot=0,\n",
    "    figsize = (12,7), fontsize=15\n",
    ")\n",
    "ax.set_axisbelow(True)\n",
    "ax.grid(linestyle='-', axis='y')\n",
    "ax.legend(fontsize=12)\n",
    "\n",
    "plt.minorticks_on()\n",
    "plt.grid(which='minor', axis='y',ls=':')\n",
    "plt.title('Training Time Comparison (minutes)', fontsize=20)\n",
    "plt.savefig('./img/running_time_PCA_LDA')\n",
    "plt.show()"
   ]
  },
  {
   "cell_type": "markdown",
   "id": "ae588e99",
   "metadata": {},
   "source": [
    "Running on Intel Core i5-8250U 1.8GHz 4 cores 8 threads"
   ]
  },
  {
   "cell_type": "markdown",
   "id": "f04e5fbb",
   "metadata": {},
   "source": [
    "---\n",
    "# Thank You"
   ]
  },
  {
   "cell_type": "code",
   "execution_count": null,
   "id": "0505fb38",
   "metadata": {},
   "outputs": [],
   "source": []
  }
 ],
 "metadata": {
  "kernelspec": {
   "display_name": "Python 3 (ipykernel)",
   "language": "python",
   "name": "python3"
  },
  "language_info": {
   "codemirror_mode": {
    "name": "ipython",
    "version": 3
   },
   "file_extension": ".py",
   "mimetype": "text/x-python",
   "name": "python",
   "nbconvert_exporter": "python",
   "pygments_lexer": "ipython3",
   "version": "3.11.5"
  }
 },
 "nbformat": 4,
 "nbformat_minor": 5
}
