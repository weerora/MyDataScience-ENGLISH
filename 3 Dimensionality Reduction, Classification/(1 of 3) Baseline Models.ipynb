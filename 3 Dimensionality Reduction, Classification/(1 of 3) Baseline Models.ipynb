{
 "cells": [
  {
   "cell_type": "markdown",
   "id": "7a436899",
   "metadata": {},
   "source": [
    "# (1 of 3) Baseline Models\n",
    "---\n",
    "# AMEX Default\n",
    "# Dimensionality Reduction: PCA, LDA\n",
    "### (For future use by Classification Algorithms)\n",
    "---"
   ]
  },
  {
   "cell_type": "markdown",
   "id": "bd1fe5e3",
   "metadata": {},
   "source": [
    "### We will predict whether the customers will default on their payments.\n",
    "\n",
    "The target is calculated by observing their statements from the past 18 months, if the customer fails to make payment within 120 days of their latest statement date, it is considered a default.   \n",
    "\n",
    "I will use PCA and LDA to reduce the dimension of the dataset.\n",
    "\n",
    "Then I will perform the classification by using Logistic Regression, Decision Tree, Naive Bayes, and Random Forest. The last notebook will contain a performance graph comparison.\n",
    "\n",
    "---"
   ]
  },
  {
   "cell_type": "code",
   "execution_count": 1,
   "id": "497e8299",
   "metadata": {},
   "outputs": [
    {
     "data": {
      "text/plain": [
       "'3.8.8 (default, Apr 13 2021, 19:58:26) \\n[GCC 7.3.0]'"
      ]
     },
     "execution_count": 1,
     "metadata": {},
     "output_type": "execute_result"
    }
   ],
   "source": [
    "import sys\n",
    "sys.version"
   ]
  },
  {
   "cell_type": "code",
   "execution_count": 2,
   "id": "eac50817",
   "metadata": {},
   "outputs": [],
   "source": [
    "import pandas as pd\n",
    "import numpy as np\n",
    "import matplotlib.pyplot as plt\n",
    "import seaborn as sns\n",
    "import plotly.express as px\n",
    "import joblib\n",
    "\n",
    "%matplotlib inline\n",
    "%config InlineBackend.figure_format = 'retina'"
   ]
  },
  {
   "cell_type": "code",
   "execution_count": 3,
   "id": "e84045c7",
   "metadata": {},
   "outputs": [],
   "source": [
    "df = pd.read_parquet('./dataset/train_data.parquet')"
   ]
  },
  {
   "cell_type": "markdown",
   "id": "86bb2937",
   "metadata": {},
   "source": [
    "### Every feature is anonymized and normalized."
   ]
  },
  {
   "cell_type": "code",
   "execution_count": 4,
   "id": "90a50cb4",
   "metadata": {},
   "outputs": [
    {
     "data": {
      "text/plain": [
       "(5531451, 191)"
      ]
     },
     "execution_count": 4,
     "metadata": {},
     "output_type": "execute_result"
    }
   ],
   "source": [
    "df.shape"
   ]
  },
  {
   "cell_type": "code",
   "execution_count": 5,
   "id": "34acdfa5",
   "metadata": {
    "scrolled": false
   },
   "outputs": [
    {
     "data": {
      "text/html": [
       "<div>\n",
       "<style scoped>\n",
       "    .dataframe tbody tr th:only-of-type {\n",
       "        vertical-align: middle;\n",
       "    }\n",
       "\n",
       "    .dataframe tbody tr th {\n",
       "        vertical-align: top;\n",
       "    }\n",
       "\n",
       "    .dataframe thead th {\n",
       "        text-align: right;\n",
       "    }\n",
       "</style>\n",
       "<table border=\"1\" class=\"dataframe\">\n",
       "  <thead>\n",
       "    <tr style=\"text-align: right;\">\n",
       "      <th></th>\n",
       "      <th>customer_ID</th>\n",
       "      <th>S_2</th>\n",
       "      <th>P_2</th>\n",
       "      <th>D_39</th>\n",
       "      <th>B_1</th>\n",
       "      <th>B_2</th>\n",
       "      <th>R_1</th>\n",
       "      <th>S_3</th>\n",
       "      <th>D_41</th>\n",
       "      <th>B_3</th>\n",
       "      <th>...</th>\n",
       "      <th>D_137</th>\n",
       "      <th>D_138</th>\n",
       "      <th>D_139</th>\n",
       "      <th>D_140</th>\n",
       "      <th>D_141</th>\n",
       "      <th>D_142</th>\n",
       "      <th>D_143</th>\n",
       "      <th>D_144</th>\n",
       "      <th>D_145</th>\n",
       "      <th>target</th>\n",
       "    </tr>\n",
       "  </thead>\n",
       "  <tbody>\n",
       "    <tr>\n",
       "      <th>3705281</th>\n",
       "      <td>ab335f9cca2caf7d1bfef7a2eae6fa12f0af31831e0e74...</td>\n",
       "      <td>2017-07-26</td>\n",
       "      <td>0.291102</td>\n",
       "      <td>0.178555</td>\n",
       "      <td>0.056986</td>\n",
       "      <td>0.080317</td>\n",
       "      <td>0.007764</td>\n",
       "      <td>0.483844</td>\n",
       "      <td>0.000939</td>\n",
       "      <td>0.243556</td>\n",
       "      <td>...</td>\n",
       "      <td>NaN</td>\n",
       "      <td>NaN</td>\n",
       "      <td>0.002004</td>\n",
       "      <td>0.004265</td>\n",
       "      <td>0.004686</td>\n",
       "      <td>NaN</td>\n",
       "      <td>0.008010</td>\n",
       "      <td>0.004604</td>\n",
       "      <td>0.006631</td>\n",
       "      <td>1</td>\n",
       "    </tr>\n",
       "    <tr>\n",
       "      <th>893681</th>\n",
       "      <td>296cda68cd0a317911a7ff829f908fc0e45d079c903f15...</td>\n",
       "      <td>2018-03-13</td>\n",
       "      <td>0.772613</td>\n",
       "      <td>0.004131</td>\n",
       "      <td>0.010371</td>\n",
       "      <td>0.818033</td>\n",
       "      <td>0.000907</td>\n",
       "      <td>0.190021</td>\n",
       "      <td>0.005010</td>\n",
       "      <td>0.009391</td>\n",
       "      <td>...</td>\n",
       "      <td>NaN</td>\n",
       "      <td>NaN</td>\n",
       "      <td>0.002154</td>\n",
       "      <td>0.002606</td>\n",
       "      <td>0.006470</td>\n",
       "      <td>NaN</td>\n",
       "      <td>0.008264</td>\n",
       "      <td>0.007594</td>\n",
       "      <td>0.000618</td>\n",
       "      <td>0</td>\n",
       "    </tr>\n",
       "    <tr>\n",
       "      <th>2806027</th>\n",
       "      <td>8180a72433c782efc5379f0d902dd76aa9e7ddaaa69634...</td>\n",
       "      <td>2017-03-19</td>\n",
       "      <td>0.681594</td>\n",
       "      <td>0.270646</td>\n",
       "      <td>0.122905</td>\n",
       "      <td>0.293392</td>\n",
       "      <td>0.001252</td>\n",
       "      <td>0.122650</td>\n",
       "      <td>0.001648</td>\n",
       "      <td>0.022808</td>\n",
       "      <td>...</td>\n",
       "      <td>NaN</td>\n",
       "      <td>NaN</td>\n",
       "      <td>0.000978</td>\n",
       "      <td>0.000155</td>\n",
       "      <td>0.000300</td>\n",
       "      <td>NaN</td>\n",
       "      <td>0.006295</td>\n",
       "      <td>0.007433</td>\n",
       "      <td>0.009785</td>\n",
       "      <td>0</td>\n",
       "    </tr>\n",
       "    <tr>\n",
       "      <th>2479274</th>\n",
       "      <td>72782c1d162ae7cdb32d4948373c065e485789179b6292...</td>\n",
       "      <td>2017-12-14</td>\n",
       "      <td>0.066480</td>\n",
       "      <td>0.000747</td>\n",
       "      <td>0.225318</td>\n",
       "      <td>0.115775</td>\n",
       "      <td>0.009571</td>\n",
       "      <td>0.189540</td>\n",
       "      <td>0.782814</td>\n",
       "      <td>0.326277</td>\n",
       "      <td>...</td>\n",
       "      <td>NaN</td>\n",
       "      <td>NaN</td>\n",
       "      <td>0.001569</td>\n",
       "      <td>0.005144</td>\n",
       "      <td>0.001206</td>\n",
       "      <td>NaN</td>\n",
       "      <td>0.008910</td>\n",
       "      <td>0.004705</td>\n",
       "      <td>0.006294</td>\n",
       "      <td>1</td>\n",
       "    </tr>\n",
       "    <tr>\n",
       "      <th>3034260</th>\n",
       "      <td>8c1daf193f19cb4245d67d1f4e7a4ee732c826e327fe82...</td>\n",
       "      <td>2017-08-22</td>\n",
       "      <td>0.341052</td>\n",
       "      <td>0.419288</td>\n",
       "      <td>0.658752</td>\n",
       "      <td>0.021095</td>\n",
       "      <td>0.001294</td>\n",
       "      <td>0.178685</td>\n",
       "      <td>0.008590</td>\n",
       "      <td>0.815337</td>\n",
       "      <td>...</td>\n",
       "      <td>NaN</td>\n",
       "      <td>NaN</td>\n",
       "      <td>0.003003</td>\n",
       "      <td>0.001345</td>\n",
       "      <td>0.000634</td>\n",
       "      <td>NaN</td>\n",
       "      <td>0.007731</td>\n",
       "      <td>0.009008</td>\n",
       "      <td>0.006097</td>\n",
       "      <td>1</td>\n",
       "    </tr>\n",
       "  </tbody>\n",
       "</table>\n",
       "<p>5 rows × 191 columns</p>\n",
       "</div>"
      ],
      "text/plain": [
       "                                               customer_ID         S_2  \\\n",
       "3705281  ab335f9cca2caf7d1bfef7a2eae6fa12f0af31831e0e74...  2017-07-26   \n",
       "893681   296cda68cd0a317911a7ff829f908fc0e45d079c903f15...  2018-03-13   \n",
       "2806027  8180a72433c782efc5379f0d902dd76aa9e7ddaaa69634...  2017-03-19   \n",
       "2479274  72782c1d162ae7cdb32d4948373c065e485789179b6292...  2017-12-14   \n",
       "3034260  8c1daf193f19cb4245d67d1f4e7a4ee732c826e327fe82...  2017-08-22   \n",
       "\n",
       "              P_2      D_39       B_1       B_2       R_1       S_3      D_41  \\\n",
       "3705281  0.291102  0.178555  0.056986  0.080317  0.007764  0.483844  0.000939   \n",
       "893681   0.772613  0.004131  0.010371  0.818033  0.000907  0.190021  0.005010   \n",
       "2806027  0.681594  0.270646  0.122905  0.293392  0.001252  0.122650  0.001648   \n",
       "2479274  0.066480  0.000747  0.225318  0.115775  0.009571  0.189540  0.782814   \n",
       "3034260  0.341052  0.419288  0.658752  0.021095  0.001294  0.178685  0.008590   \n",
       "\n",
       "              B_3  ...  D_137  D_138     D_139     D_140     D_141  D_142  \\\n",
       "3705281  0.243556  ...    NaN    NaN  0.002004  0.004265  0.004686    NaN   \n",
       "893681   0.009391  ...    NaN    NaN  0.002154  0.002606  0.006470    NaN   \n",
       "2806027  0.022808  ...    NaN    NaN  0.000978  0.000155  0.000300    NaN   \n",
       "2479274  0.326277  ...    NaN    NaN  0.001569  0.005144  0.001206    NaN   \n",
       "3034260  0.815337  ...    NaN    NaN  0.003003  0.001345  0.000634    NaN   \n",
       "\n",
       "            D_143     D_144     D_145  target  \n",
       "3705281  0.008010  0.004604  0.006631       1  \n",
       "893681   0.008264  0.007594  0.000618       0  \n",
       "2806027  0.006295  0.007433  0.009785       0  \n",
       "2479274  0.008910  0.004705  0.006294       1  \n",
       "3034260  0.007731  0.009008  0.006097       1  \n",
       "\n",
       "[5 rows x 191 columns]"
      ]
     },
     "execution_count": 5,
     "metadata": {},
     "output_type": "execute_result"
    }
   ],
   "source": [
    "df.sample(5)"
   ]
  },
  {
   "cell_type": "code",
   "execution_count": 6,
   "id": "c4ed9b6d",
   "metadata": {
    "scrolled": true
   },
   "outputs": [
    {
     "data": {
      "text/html": [
       "<div>\n",
       "<style scoped>\n",
       "    .dataframe tbody tr th:only-of-type {\n",
       "        vertical-align: middle;\n",
       "    }\n",
       "\n",
       "    .dataframe tbody tr th {\n",
       "        vertical-align: top;\n",
       "    }\n",
       "\n",
       "    .dataframe thead th {\n",
       "        text-align: right;\n",
       "    }\n",
       "</style>\n",
       "<table border=\"1\" class=\"dataframe\">\n",
       "  <thead>\n",
       "    <tr style=\"text-align: right;\">\n",
       "      <th></th>\n",
       "      <th>P_2</th>\n",
       "      <th>D_39</th>\n",
       "      <th>B_1</th>\n",
       "      <th>B_2</th>\n",
       "      <th>R_1</th>\n",
       "      <th>S_3</th>\n",
       "      <th>D_41</th>\n",
       "      <th>B_3</th>\n",
       "      <th>D_42</th>\n",
       "      <th>D_43</th>\n",
       "      <th>...</th>\n",
       "      <th>D_137</th>\n",
       "      <th>D_138</th>\n",
       "      <th>D_139</th>\n",
       "      <th>D_140</th>\n",
       "      <th>D_141</th>\n",
       "      <th>D_142</th>\n",
       "      <th>D_143</th>\n",
       "      <th>D_144</th>\n",
       "      <th>D_145</th>\n",
       "      <th>target</th>\n",
       "    </tr>\n",
       "  </thead>\n",
       "  <tbody>\n",
       "    <tr>\n",
       "      <th>count</th>\n",
       "      <td>5.485466e+06</td>\n",
       "      <td>5.531451e+06</td>\n",
       "      <td>5.531451e+06</td>\n",
       "      <td>5.529435e+06</td>\n",
       "      <td>5.531451e+06</td>\n",
       "      <td>4.510907e+06</td>\n",
       "      <td>5.529435e+06</td>\n",
       "      <td>5.529435e+06</td>\n",
       "      <td>791314.000000</td>\n",
       "      <td>3.873055e+06</td>\n",
       "      <td>...</td>\n",
       "      <td>1.946990e+05</td>\n",
       "      <td>1.946990e+05</td>\n",
       "      <td>5.429903e+06</td>\n",
       "      <td>5.490819e+06</td>\n",
       "      <td>5.429903e+06</td>\n",
       "      <td>944408.000000</td>\n",
       "      <td>5.429903e+06</td>\n",
       "      <td>5.490724e+06</td>\n",
       "      <td>5.429903e+06</td>\n",
       "      <td>5.531451e+06</td>\n",
       "    </tr>\n",
       "    <tr>\n",
       "      <th>mean</th>\n",
       "      <td>6.581885e-01</td>\n",
       "      <td>1.514543e-01</td>\n",
       "      <td>1.225995e-01</td>\n",
       "      <td>6.105151e-01</td>\n",
       "      <td>7.632776e-02</td>\n",
       "      <td>2.264676e-01</td>\n",
       "      <td>5.831698e-02</td>\n",
       "      <td>1.302262e-01</td>\n",
       "      <td>0.184966</td>\n",
       "      <td>1.544140e-01</td>\n",
       "      <td>...</td>\n",
       "      <td>1.424414e-02</td>\n",
       "      <td>1.646144e-01</td>\n",
       "      <td>1.750432e-01</td>\n",
       "      <td>2.634348e-02</td>\n",
       "      <td>1.615358e-01</td>\n",
       "      <td>0.390781</td>\n",
       "      <td>1.749181e-01</td>\n",
       "      <td>5.131478e-02</td>\n",
       "      <td>6.084983e-02</td>\n",
       "      <td>2.490972e-01</td>\n",
       "    </tr>\n",
       "    <tr>\n",
       "      <th>std</th>\n",
       "      <td>2.441398e-01</td>\n",
       "      <td>2.705955e-01</td>\n",
       "      <td>2.131456e-01</td>\n",
       "      <td>4.029192e-01</td>\n",
       "      <td>2.221323e-01</td>\n",
       "      <td>1.925726e-01</td>\n",
       "      <td>1.984337e-01</td>\n",
       "      <td>2.343981e-01</td>\n",
       "      <td>0.228140</td>\n",
       "      <td>2.129113e-01</td>\n",
       "      <td>...</td>\n",
       "      <td>9.569677e-02</td>\n",
       "      <td>2.670328e-01</td>\n",
       "      <td>3.696215e-01</td>\n",
       "      <td>1.442015e-01</td>\n",
       "      <td>3.456256e-01</td>\n",
       "      <td>0.236142</td>\n",
       "      <td>3.695211e-01</td>\n",
       "      <td>1.791743e-01</td>\n",
       "      <td>1.889250e-01</td>\n",
       "      <td>4.324903e-01</td>\n",
       "    </tr>\n",
       "    <tr>\n",
       "      <th>min</th>\n",
       "      <td>-4.589548e-01</td>\n",
       "      <td>5.026190e-09</td>\n",
       "      <td>-7.588799e+00</td>\n",
       "      <td>9.192280e-09</td>\n",
       "      <td>1.534223e-09</td>\n",
       "      <td>-6.271321e-01</td>\n",
       "      <td>5.566545e-10</td>\n",
       "      <td>6.285293e-09</td>\n",
       "      <td>-0.000454</td>\n",
       "      <td>1.154550e-07</td>\n",
       "      <td>...</td>\n",
       "      <td>1.078787e-08</td>\n",
       "      <td>3.307923e-08</td>\n",
       "      <td>3.767347e-10</td>\n",
       "      <td>3.725073e-09</td>\n",
       "      <td>1.650100e-10</td>\n",
       "      <td>-0.014539</td>\n",
       "      <td>5.549692e-09</td>\n",
       "      <td>2.500991e-09</td>\n",
       "      <td>1.226024e-09</td>\n",
       "      <td>0.000000e+00</td>\n",
       "    </tr>\n",
       "    <tr>\n",
       "      <th>25%</th>\n",
       "      <td>4.803307e-01</td>\n",
       "      <td>4.528464e-03</td>\n",
       "      <td>8.863645e-03</td>\n",
       "      <td>1.053313e-01</td>\n",
       "      <td>2.895934e-03</td>\n",
       "      <td>1.272588e-01</td>\n",
       "      <td>2.873244e-03</td>\n",
       "      <td>5.227570e-03</td>\n",
       "      <td>0.037516</td>\n",
       "      <td>4.227546e-02</td>\n",
       "      <td>...</td>\n",
       "      <td>2.532470e-03</td>\n",
       "      <td>3.517452e-03</td>\n",
       "      <td>3.027212e-03</td>\n",
       "      <td>2.555848e-03</td>\n",
       "      <td>3.026087e-03</td>\n",
       "      <td>0.199399</td>\n",
       "      <td>3.028116e-03</td>\n",
       "      <td>2.752895e-03</td>\n",
       "      <td>3.028347e-03</td>\n",
       "      <td>0.000000e+00</td>\n",
       "    </tr>\n",
       "    <tr>\n",
       "      <th>50%</th>\n",
       "      <td>6.942950e-01</td>\n",
       "      <td>9.056902e-03</td>\n",
       "      <td>3.132968e-02</td>\n",
       "      <td>8.143328e-01</td>\n",
       "      <td>5.782230e-03</td>\n",
       "      <td>1.639082e-01</td>\n",
       "      <td>5.746725e-03</td>\n",
       "      <td>9.777229e-03</td>\n",
       "      <td>0.120519</td>\n",
       "      <td>8.851244e-02</td>\n",
       "      <td>...</td>\n",
       "      <td>5.069830e-03</td>\n",
       "      <td>7.037814e-03</td>\n",
       "      <td>6.053010e-03</td>\n",
       "      <td>5.110523e-03</td>\n",
       "      <td>6.051590e-03</td>\n",
       "      <td>0.382136</td>\n",
       "      <td>6.053151e-03</td>\n",
       "      <td>5.508129e-03</td>\n",
       "      <td>6.053247e-03</td>\n",
       "      <td>0.000000e+00</td>\n",
       "    </tr>\n",
       "    <tr>\n",
       "      <th>75%</th>\n",
       "      <td>8.648159e-01</td>\n",
       "      <td>2.366407e-01</td>\n",
       "      <td>1.259019e-01</td>\n",
       "      <td>1.002403e+00</td>\n",
       "      <td>8.660590e-03</td>\n",
       "      <td>2.581017e-01</td>\n",
       "      <td>8.615665e-03</td>\n",
       "      <td>1.550507e-01</td>\n",
       "      <td>0.250869</td>\n",
       "      <td>1.843206e-01</td>\n",
       "      <td>...</td>\n",
       "      <td>7.573434e-03</td>\n",
       "      <td>5.015469e-01</td>\n",
       "      <td>9.080455e-03</td>\n",
       "      <td>7.663697e-03</td>\n",
       "      <td>9.078914e-03</td>\n",
       "      <td>0.559307</td>\n",
       "      <td>9.076287e-03</td>\n",
       "      <td>8.260448e-03</td>\n",
       "      <td>9.080930e-03</td>\n",
       "      <td>0.000000e+00</td>\n",
       "    </tr>\n",
       "    <tr>\n",
       "      <th>max</th>\n",
       "      <td>1.010000e+00</td>\n",
       "      <td>5.389619e+00</td>\n",
       "      <td>1.324060e+00</td>\n",
       "      <td>1.010000e+00</td>\n",
       "      <td>3.256284e+00</td>\n",
       "      <td>5.482888e+00</td>\n",
       "      <td>8.988807e+00</td>\n",
       "      <td>1.625262e+00</td>\n",
       "      <td>4.191119</td>\n",
       "      <td>1.011162e+01</td>\n",
       "      <td>...</td>\n",
       "      <td>1.009998e+00</td>\n",
       "      <td>3.005383e+00</td>\n",
       "      <td>1.010000e+00</td>\n",
       "      <td>1.010000e+00</td>\n",
       "      <td>1.339910e+00</td>\n",
       "      <td>2.229368</td>\n",
       "      <td>1.010000e+00</td>\n",
       "      <td>1.343331e+00</td>\n",
       "      <td>4.827630e+00</td>\n",
       "      <td>1.000000e+00</td>\n",
       "    </tr>\n",
       "  </tbody>\n",
       "</table>\n",
       "<p>8 rows × 187 columns</p>\n",
       "</div>"
      ],
      "text/plain": [
       "                P_2          D_39           B_1           B_2           R_1  \\\n",
       "count  5.485466e+06  5.531451e+06  5.531451e+06  5.529435e+06  5.531451e+06   \n",
       "mean   6.581885e-01  1.514543e-01  1.225995e-01  6.105151e-01  7.632776e-02   \n",
       "std    2.441398e-01  2.705955e-01  2.131456e-01  4.029192e-01  2.221323e-01   \n",
       "min   -4.589548e-01  5.026190e-09 -7.588799e+00  9.192280e-09  1.534223e-09   \n",
       "25%    4.803307e-01  4.528464e-03  8.863645e-03  1.053313e-01  2.895934e-03   \n",
       "50%    6.942950e-01  9.056902e-03  3.132968e-02  8.143328e-01  5.782230e-03   \n",
       "75%    8.648159e-01  2.366407e-01  1.259019e-01  1.002403e+00  8.660590e-03   \n",
       "max    1.010000e+00  5.389619e+00  1.324060e+00  1.010000e+00  3.256284e+00   \n",
       "\n",
       "                S_3          D_41           B_3           D_42          D_43  \\\n",
       "count  4.510907e+06  5.529435e+06  5.529435e+06  791314.000000  3.873055e+06   \n",
       "mean   2.264676e-01  5.831698e-02  1.302262e-01       0.184966  1.544140e-01   \n",
       "std    1.925726e-01  1.984337e-01  2.343981e-01       0.228140  2.129113e-01   \n",
       "min   -6.271321e-01  5.566545e-10  6.285293e-09      -0.000454  1.154550e-07   \n",
       "25%    1.272588e-01  2.873244e-03  5.227570e-03       0.037516  4.227546e-02   \n",
       "50%    1.639082e-01  5.746725e-03  9.777229e-03       0.120519  8.851244e-02   \n",
       "75%    2.581017e-01  8.615665e-03  1.550507e-01       0.250869  1.843206e-01   \n",
       "max    5.482888e+00  8.988807e+00  1.625262e+00       4.191119  1.011162e+01   \n",
       "\n",
       "       ...         D_137         D_138         D_139         D_140  \\\n",
       "count  ...  1.946990e+05  1.946990e+05  5.429903e+06  5.490819e+06   \n",
       "mean   ...  1.424414e-02  1.646144e-01  1.750432e-01  2.634348e-02   \n",
       "std    ...  9.569677e-02  2.670328e-01  3.696215e-01  1.442015e-01   \n",
       "min    ...  1.078787e-08  3.307923e-08  3.767347e-10  3.725073e-09   \n",
       "25%    ...  2.532470e-03  3.517452e-03  3.027212e-03  2.555848e-03   \n",
       "50%    ...  5.069830e-03  7.037814e-03  6.053010e-03  5.110523e-03   \n",
       "75%    ...  7.573434e-03  5.015469e-01  9.080455e-03  7.663697e-03   \n",
       "max    ...  1.009998e+00  3.005383e+00  1.010000e+00  1.010000e+00   \n",
       "\n",
       "              D_141          D_142         D_143         D_144         D_145  \\\n",
       "count  5.429903e+06  944408.000000  5.429903e+06  5.490724e+06  5.429903e+06   \n",
       "mean   1.615358e-01       0.390781  1.749181e-01  5.131478e-02  6.084983e-02   \n",
       "std    3.456256e-01       0.236142  3.695211e-01  1.791743e-01  1.889250e-01   \n",
       "min    1.650100e-10      -0.014539  5.549692e-09  2.500991e-09  1.226024e-09   \n",
       "25%    3.026087e-03       0.199399  3.028116e-03  2.752895e-03  3.028347e-03   \n",
       "50%    6.051590e-03       0.382136  6.053151e-03  5.508129e-03  6.053247e-03   \n",
       "75%    9.078914e-03       0.559307  9.076287e-03  8.260448e-03  9.080930e-03   \n",
       "max    1.339910e+00       2.229368  1.010000e+00  1.343331e+00  4.827630e+00   \n",
       "\n",
       "             target  \n",
       "count  5.531451e+06  \n",
       "mean   2.490972e-01  \n",
       "std    4.324903e-01  \n",
       "min    0.000000e+00  \n",
       "25%    0.000000e+00  \n",
       "50%    0.000000e+00  \n",
       "75%    0.000000e+00  \n",
       "max    1.000000e+00  \n",
       "\n",
       "[8 rows x 187 columns]"
      ]
     },
     "execution_count": 6,
     "metadata": {},
     "output_type": "execute_result"
    }
   ],
   "source": [
    "df.describe()"
   ]
  },
  {
   "cell_type": "markdown",
   "id": "a55d372a",
   "metadata": {},
   "source": [
    "**There are four data types in this dataset.**  \n",
    "1. customer_ID.\n",
    "2. S_2 is a datetime.\n",
    "3. 11 categorical features: B_30, B_38, D_114, D_116, D_117, D_120, D_126, D_63, D_64, D_66, D_68.\n",
    "4. The features 178 features are float and int types.\n",
    "\n",
    "#### Change them to the appropriate data types."
   ]
  },
  {
   "cell_type": "code",
   "execution_count": 7,
   "id": "04dc639e",
   "metadata": {},
   "outputs": [],
   "source": [
    "df['S_2'] = pd.to_datetime(df['S_2'], format='%Y/%m/%d')"
   ]
  },
  {
   "cell_type": "code",
   "execution_count": 8,
   "id": "60d73b71",
   "metadata": {},
   "outputs": [],
   "source": [
    "category_cols = ['B_30','B_38','D_114','D_116','D_117','D_120','D_126','D_63','D_64','D_66','D_68']\n",
    "\n",
    "for col in category_cols:\n",
    "    df[col] = df[col].astype('category')"
   ]
  },
  {
   "cell_type": "code",
   "execution_count": 12,
   "id": "755b53d5",
   "metadata": {
    "scrolled": false
   },
   "outputs": [
    {
     "name": "stdout",
     "output_type": "stream",
     "text": [
      "<class 'pandas.core.frame.DataFrame'>\n",
      "Int64Index: 5531451 entries, 0 to 5531450\n",
      "Columns: 191 entries, customer_ID to target\n",
      "dtypes: category(11), datetime64[ns](1), float32(176), int64(2), object(1)\n",
      "memory usage: 3.9+ GB\n"
     ]
    }
   ],
   "source": [
    "#df.info(max_cols=200, show_counts=True)\n",
    "df.info()"
   ]
  },
  {
   "cell_type": "markdown",
   "id": "59d2304c",
   "metadata": {},
   "source": [
    "#### Map the string values to numeric values."
   ]
  },
  {
   "cell_type": "code",
   "execution_count": 10,
   "id": "564c54c1",
   "metadata": {
    "scrolled": true
   },
   "outputs": [
    {
     "data": {
      "text/plain": [
       "['CR', 'CO', 'CL', 'XZ', 'XM', 'XL']\n",
       "Categories (6, object): ['CR', 'CO', 'CL', 'XZ', 'XM', 'XL']"
      ]
     },
     "execution_count": 10,
     "metadata": {},
     "output_type": "execute_result"
    }
   ],
   "source": [
    "df['D_63'].unique()"
   ]
  },
  {
   "cell_type": "code",
   "execution_count": 11,
   "id": "7395bb34",
   "metadata": {},
   "outputs": [],
   "source": [
    "my_dictionary = {'CO':0,'CR':1,'CL':2,'XL':3,'XZ':4,'XM':5}\n",
    "df['D_63'] = df['D_63'].map(my_dictionary)"
   ]
  },
  {
   "cell_type": "code",
   "execution_count": 12,
   "id": "d80979b0",
   "metadata": {},
   "outputs": [
    {
     "data": {
      "text/plain": [
       "['O', 'R', NaN, 'U', '-1']\n",
       "Categories (4, object): ['O', 'R', 'U', '-1']"
      ]
     },
     "execution_count": 12,
     "metadata": {},
     "output_type": "execute_result"
    }
   ],
   "source": [
    "df['D_64'].unique()"
   ]
  },
  {
   "cell_type": "code",
   "execution_count": 13,
   "id": "077e91d1",
   "metadata": {},
   "outputs": [],
   "source": [
    "my_dictionary = {'O':0,'R':1,'U':2,'-1':3}\n",
    "df['D_64'] = df['D_64'].map(my_dictionary)"
   ]
  },
  {
   "cell_type": "markdown",
   "id": "62f35599",
   "metadata": {},
   "source": [
    "#### Determine the target ratio."
   ]
  },
  {
   "cell_type": "code",
   "execution_count": 14,
   "id": "c972a06b",
   "metadata": {},
   "outputs": [
    {
     "data": {
      "text/plain": [
       "<AxesSubplot:xlabel='target', ylabel='count'>"
      ]
     },
     "execution_count": 14,
     "metadata": {},
     "output_type": "execute_result"
    },
    {
     "data": {
      "image/png": "[encoded data removed]",
      "text/plain": [
       "<Figure size 432x288 with 1 Axes>"
      ]
     },
     "metadata": {
      "image/png": {
       "height": 272,
       "width": 385
      },
      "needs_background": "light"
     },
     "output_type": "display_data"
    }
   ],
   "source": [
    "sns.countplot(x=df['target'])"
   ]
  },
  {
   "cell_type": "code",
   "execution_count": 15,
   "id": "dc078055",
   "metadata": {},
   "outputs": [
    {
     "data": {
      "image/png": "[encoded data removed]",
      "text/plain": [
       "<Figure size 432x288 with 1 Axes>"
      ]
     },
     "metadata": {
      "image/png": {
       "height": 231,
       "width": 231
      }
     },
     "output_type": "display_data"
    }
   ],
   "source": [
    "plt.pie(df['target'].value_counts(),\n",
    "        autopct='%1.1f%%', startangle=90,\n",
    "        textprops=dict(color='w', size=10))\n",
    "plt.show()"
   ]
  },
  {
   "cell_type": "markdown",
   "id": "bbaaf44d",
   "metadata": {},
   "source": [
    "This is an imbalanced dataset because the number of default customers is very small."
   ]
  },
  {
   "cell_type": "markdown",
   "id": "b1b9b8ed",
   "metadata": {},
   "source": [
    "## Missing Values"
   ]
  },
  {
   "cell_type": "code",
   "execution_count": 16,
   "id": "0e51a829",
   "metadata": {
    "scrolled": false
   },
   "outputs": [
    {
     "data": {
      "text/html": [
       "<div>\n",
       "<style scoped>\n",
       "    .dataframe tbody tr th:only-of-type {\n",
       "        vertical-align: middle;\n",
       "    }\n",
       "\n",
       "    .dataframe tbody tr th {\n",
       "        vertical-align: top;\n",
       "    }\n",
       "\n",
       "    .dataframe thead th {\n",
       "        text-align: right;\n",
       "    }\n",
       "</style>\n",
       "<table border=\"1\" class=\"dataframe\">\n",
       "  <thead>\n",
       "    <tr style=\"text-align: right;\">\n",
       "      <th></th>\n",
       "      <th>column_name</th>\n",
       "      <th>percent_missing</th>\n",
       "    </tr>\n",
       "  </thead>\n",
       "  <tbody>\n",
       "    <tr>\n",
       "      <th>D_87</th>\n",
       "      <td>D_87</td>\n",
       "      <td>99.930127</td>\n",
       "    </tr>\n",
       "    <tr>\n",
       "      <th>D_88</th>\n",
       "      <td>D_88</td>\n",
       "      <td>99.891457</td>\n",
       "    </tr>\n",
       "    <tr>\n",
       "      <th>D_108</th>\n",
       "      <td>D_108</td>\n",
       "      <td>99.476846</td>\n",
       "    </tr>\n",
       "    <tr>\n",
       "      <th>D_110</th>\n",
       "      <td>D_110</td>\n",
       "      <td>99.433530</td>\n",
       "    </tr>\n",
       "    <tr>\n",
       "      <th>D_111</th>\n",
       "      <td>D_111</td>\n",
       "      <td>99.433530</td>\n",
       "    </tr>\n",
       "    <tr>\n",
       "      <th>...</th>\n",
       "      <td>...</td>\n",
       "      <td>...</td>\n",
       "    </tr>\n",
       "    <tr>\n",
       "      <th>B_24</th>\n",
       "      <td>B_24</td>\n",
       "      <td>0.000000</td>\n",
       "    </tr>\n",
       "    <tr>\n",
       "      <th>D_75</th>\n",
       "      <td>D_75</td>\n",
       "      <td>0.000000</td>\n",
       "    </tr>\n",
       "    <tr>\n",
       "      <th>P_4</th>\n",
       "      <td>P_4</td>\n",
       "      <td>0.000000</td>\n",
       "    </tr>\n",
       "    <tr>\n",
       "      <th>B_23</th>\n",
       "      <td>B_23</td>\n",
       "      <td>0.000000</td>\n",
       "    </tr>\n",
       "    <tr>\n",
       "      <th>target</th>\n",
       "      <td>target</td>\n",
       "      <td>0.000000</td>\n",
       "    </tr>\n",
       "  </tbody>\n",
       "</table>\n",
       "<p>191 rows × 2 columns</p>\n",
       "</div>"
      ],
      "text/plain": [
       "       column_name  percent_missing\n",
       "D_87          D_87        99.930127\n",
       "D_88          D_88        99.891457\n",
       "D_108        D_108        99.476846\n",
       "D_110        D_110        99.433530\n",
       "D_111        D_111        99.433530\n",
       "...            ...              ...\n",
       "B_24          B_24         0.000000\n",
       "D_75          D_75         0.000000\n",
       "P_4            P_4         0.000000\n",
       "B_23          B_23         0.000000\n",
       "target      target         0.000000\n",
       "\n",
       "[191 rows x 2 columns]"
      ]
     },
     "execution_count": 16,
     "metadata": {},
     "output_type": "execute_result"
    }
   ],
   "source": [
    "percent_missing = df.isnull().sum() * 100 / len(df)\n",
    "df_missing_val = pd.DataFrame({'column_name': df.columns,\n",
    "                                 'percent_missing': percent_missing})\n",
    "\n",
    "df_missing_val.sort_values('percent_missing',ascending=False)"
   ]
  },
  {
   "cell_type": "code",
   "execution_count": 17,
   "id": "4529d87f",
   "metadata": {
    "scrolled": false
   },
   "outputs": [
    {
     "data": {
      "image/png": "[encoded data removed]",
      "text/plain": [
       "<Figure size 1080x504 with 1 Axes>"
      ]
     },
     "metadata": {
      "image/png": {
       "height": 411,
       "width": 877
      },
      "needs_background": "light"
     },
     "output_type": "display_data"
    }
   ],
   "source": [
    "plt.figure(figsize=(15,7))\n",
    "plt.bar(x='column_name',height='percent_missing',data=df_missing_val)\n",
    "plt.show()"
   ]
  },
  {
   "cell_type": "code",
   "execution_count": 18,
   "id": "151b4640",
   "metadata": {
    "scrolled": true
   },
   "outputs": [
    {
     "data": {
      "text/plain": [
       "(30, 2)"
      ]
     },
     "execution_count": 18,
     "metadata": {},
     "output_type": "execute_result"
    }
   ],
   "source": [
    "df_missing_val.loc[df_missing_val.percent_missing > 50].shape"
   ]
  },
  {
   "cell_type": "markdown",
   "id": "d9e212dd",
   "metadata": {},
   "source": [
    "I will drop columns that have nulls greater than 50% of their column."
   ]
  },
  {
   "cell_type": "code",
   "execution_count": 19,
   "id": "a916ecd3",
   "metadata": {},
   "outputs": [],
   "source": [
    "df.drop(\n",
    "    columns=df_missing_val.loc[\n",
    "        df_missing_val.percent_missing > 50\n",
    "    ].index, inplace=True, errors='ignore'\n",
    ")"
   ]
  },
  {
   "cell_type": "markdown",
   "id": "f0969017",
   "metadata": {},
   "source": [
    "Then drop the remaining rows that still have nulls."
   ]
  },
  {
   "cell_type": "code",
   "execution_count": 20,
   "id": "d75b8677",
   "metadata": {},
   "outputs": [],
   "source": [
    "df.dropna(inplace=True)"
   ]
  },
  {
   "cell_type": "code",
   "execution_count": 21,
   "id": "c81cd097",
   "metadata": {},
   "outputs": [
    {
     "data": {
      "text/plain": [
       "(1301619, 161)"
      ]
     },
     "execution_count": 21,
     "metadata": {},
     "output_type": "execute_result"
    }
   ],
   "source": [
    "df.shape"
   ]
  },
  {
   "cell_type": "markdown",
   "id": "d3008548",
   "metadata": {},
   "source": [
    "The dataset size from (5531451, 191) was reduced to (1301619, 161).  \n",
    "So, we still have enough data for training."
   ]
  },
  {
   "cell_type": "markdown",
   "id": "532dddc2",
   "metadata": {},
   "source": [
    "Determine the target ratio after eliminating missing values."
   ]
  },
  {
   "cell_type": "code",
   "execution_count": 22,
   "id": "a86d0ea9",
   "metadata": {},
   "outputs": [
    {
     "data": {
      "image/png": "[encoded data removed]",
      "text/plain": [
       "<Figure size 432x288 with 1 Axes>"
      ]
     },
     "metadata": {
      "image/png": {
       "height": 231,
       "width": 231
      }
     },
     "output_type": "display_data"
    }
   ],
   "source": [
    "plt.pie(df['target'].value_counts(),\n",
    "        autopct='%1.1f%%', startangle=90,\n",
    "        textprops=dict(color='w', size=10))\n",
    "plt.show()"
   ]
  },
  {
   "cell_type": "markdown",
   "id": "e7fa79c6",
   "metadata": {},
   "source": [
    "### Train/test split with the 80:20 ratio"
   ]
  },
  {
   "cell_type": "code",
   "execution_count": 23,
   "id": "e80bf679",
   "metadata": {},
   "outputs": [],
   "source": [
    "X = df.drop(['target','customer_ID','S_2'],axis=1)\n",
    "y = df['target']"
   ]
  },
  {
   "cell_type": "code",
   "execution_count": 24,
   "id": "b278f9bd",
   "metadata": {
    "scrolled": true
   },
   "outputs": [
    {
     "name": "stdout",
     "output_type": "stream",
     "text": [
      "(1301619, 158)\n",
      "(1301619,)\n"
     ]
    }
   ],
   "source": [
    "print(X.shape)\n",
    "print(y.shape)"
   ]
  },
  {
   "cell_type": "code",
   "execution_count": 25,
   "id": "d8a7b402",
   "metadata": {},
   "outputs": [],
   "source": [
    "from sklearn.model_selection import train_test_split"
   ]
  },
  {
   "cell_type": "code",
   "execution_count": 26,
   "id": "7a8d52c7",
   "metadata": {},
   "outputs": [],
   "source": [
    "X_train, X_test, y_train, y_test = train_test_split(X, y, test_size=0.2, random_state=55)"
   ]
  },
  {
   "cell_type": "code",
   "execution_count": 27,
   "id": "7f6bcfd2",
   "metadata": {
    "scrolled": false
   },
   "outputs": [
    {
     "name": "stdout",
     "output_type": "stream",
     "text": [
      "(1041295, 158)\n",
      "(260324, 158)\n",
      "(1041295,)\n",
      "(260324,)\n"
     ]
    }
   ],
   "source": [
    "print(X_train.shape)\n",
    "print(X_test.shape)\n",
    "print(y_train.shape)\n",
    "print(y_test.shape)"
   ]
  },
  {
   "cell_type": "markdown",
   "id": "702bb474",
   "metadata": {},
   "source": [
    "---\n",
    "#### This evaluation function will collect the evaluation values for future use in performance graph comparison."
   ]
  },
  {
   "cell_type": "code",
   "execution_count": 28,
   "id": "2e7e8c24",
   "metadata": {},
   "outputs": [],
   "source": [
    "acc = {}; f1 = {}; prec = {}; recl = {}\n",
    "\n",
    "def my_eval(model,y_test,predicted):\n",
    "    \n",
    "    print(model,'Results')\n",
    "    print('Accuracy: ', accuracy_score(y_test, predicted))\n",
    "    print('F1 Score: ', f1_score(y_test, predicted))\n",
    "    print('Precision: ', precision_score(y_test, predicted))\n",
    "    print('Recall: ', recall_score(y_test, predicted))\n",
    "    \n",
    "    acc[model] = accuracy_score(y_test, predicted)\n",
    "    f1[model] = f1_score(y_test, predicted)\n",
    "    prec[model] = precision_score(y_test, predicted)\n",
    "    recl[model] = recall_score(y_test, predicted)\n",
    "    \n",
    "    global df_model_compare\n",
    "    df_model_compare = pd.DataFrame.from_dict(\n",
    "        [acc,f1,prec,recl]\n",
    "    ).rename(\n",
    "        index={0:'Accuracy',1:'F1 Score',2:'Precision',3:'Recall'}\n",
    "    )\n",
    "    display(df_model_compare)"
   ]
  },
  {
   "cell_type": "markdown",
   "id": "8948bb36",
   "metadata": {},
   "source": [
    "---\n",
    "\n",
    "# Baseline Models"
   ]
  },
  {
   "cell_type": "code",
   "execution_count": 29,
   "id": "1dde5426",
   "metadata": {},
   "outputs": [],
   "source": [
    "from sklearn.metrics import confusion_matrix, accuracy_score, f1_score, precision_score, recall_score"
   ]
  },
  {
   "cell_type": "markdown",
   "id": "24862755",
   "metadata": {},
   "source": [
    "### Logistic Regression (Baseline)"
   ]
  },
  {
   "cell_type": "code",
   "execution_count": null,
   "id": "30f1fa83",
   "metadata": {},
   "outputs": [],
   "source": [
    "from sklearn.linear_model import LogisticRegression\n",
    "\n",
    "logit = LogisticRegression(max_iter=1000)\n",
    "logit.fit(X_train, y_train)"
   ]
  },
  {
   "cell_type": "code",
   "execution_count": 30,
   "id": "978c4e43",
   "metadata": {},
   "outputs": [],
   "source": [
    "# Save Model\n",
    "#joblib.dump(logit, './models/Logit_Baseline.pkl')\n",
    "\n",
    "# Load Model\n",
    "logit = joblib.load('./models/Logit_Baseline.pkl')"
   ]
  },
  {
   "cell_type": "markdown",
   "id": "95d028e6",
   "metadata": {},
   "source": [
    "Running time is approximately 5 minutes."
   ]
  },
  {
   "cell_type": "code",
   "execution_count": 31,
   "id": "cdd9e587",
   "metadata": {},
   "outputs": [],
   "source": [
    "logistic_predicted = logit.predict(X_test)"
   ]
  },
  {
   "cell_type": "code",
   "execution_count": 32,
   "id": "10004fe9",
   "metadata": {
    "scrolled": false
   },
   "outputs": [
    {
     "data": {
      "text/plain": [
       "array([[188742,  12592],\n",
       "       [ 16004,  42986]])"
      ]
     },
     "execution_count": 32,
     "metadata": {},
     "output_type": "execute_result"
    }
   ],
   "source": [
    "confusion_matrix(y_test, logistic_predicted)"
   ]
  },
  {
   "cell_type": "markdown",
   "id": "618288f9",
   "metadata": {},
   "source": [
    "[ TN FP ]  \n",
    "[ FN TP ]\n",
    "\n",
    "TP (Predict as default; the truth is default)  \n",
    "TN (Predict as not default; the truth is not default)  \n",
    "FP (Predict as default; the truth is not default)  \n",
    "FN (Predict as not default; the truth is default)"
   ]
  },
  {
   "cell_type": "code",
   "execution_count": 33,
   "id": "43ab9ee8",
   "metadata": {},
   "outputs": [
    {
     "name": "stdout",
     "output_type": "stream",
     "text": [
      "Logit Results\n",
      "Accuracy:  0.8901522717843917\n",
      "F1 Score:  0.7504015082745618\n",
      "Precision:  0.7734355320450538\n",
      "Recall:  0.7286997796236651\n"
     ]
    },
    {
     "data": {
      "text/html": [
       "<div>\n",
       "<style scoped>\n",
       "    .dataframe tbody tr th:only-of-type {\n",
       "        vertical-align: middle;\n",
       "    }\n",
       "\n",
       "    .dataframe tbody tr th {\n",
       "        vertical-align: top;\n",
       "    }\n",
       "\n",
       "    .dataframe thead th {\n",
       "        text-align: right;\n",
       "    }\n",
       "</style>\n",
       "<table border=\"1\" class=\"dataframe\">\n",
       "  <thead>\n",
       "    <tr style=\"text-align: right;\">\n",
       "      <th></th>\n",
       "      <th>Logit</th>\n",
       "    </tr>\n",
       "  </thead>\n",
       "  <tbody>\n",
       "    <tr>\n",
       "      <th>Accuracy</th>\n",
       "      <td>0.890152</td>\n",
       "    </tr>\n",
       "    <tr>\n",
       "      <th>F1 Score</th>\n",
       "      <td>0.750402</td>\n",
       "    </tr>\n",
       "    <tr>\n",
       "      <th>Precision</th>\n",
       "      <td>0.773436</td>\n",
       "    </tr>\n",
       "    <tr>\n",
       "      <th>Recall</th>\n",
       "      <td>0.728700</td>\n",
       "    </tr>\n",
       "  </tbody>\n",
       "</table>\n",
       "</div>"
      ],
      "text/plain": [
       "              Logit\n",
       "Accuracy   0.890152\n",
       "F1 Score   0.750402\n",
       "Precision  0.773436\n",
       "Recall     0.728700"
      ]
     },
     "metadata": {},
     "output_type": "display_data"
    }
   ],
   "source": [
    "my_eval('Logit',y_test,logistic_predicted)"
   ]
  },
  {
   "cell_type": "markdown",
   "id": "d739da9a",
   "metadata": {},
   "source": [
    "### Naive Bayes (Baseline)"
   ]
  },
  {
   "cell_type": "code",
   "execution_count": null,
   "id": "be1f8858",
   "metadata": {},
   "outputs": [],
   "source": [
    "from sklearn.naive_bayes import GaussianNB\n",
    "\n",
    "nb = GaussianNB()\n",
    "nb.fit(X_train, y_train)"
   ]
  },
  {
   "cell_type": "markdown",
   "id": "c23dbf84",
   "metadata": {},
   "source": [
    "Running time is approximately 5 seconds."
   ]
  },
  {
   "cell_type": "code",
   "execution_count": 34,
   "id": "c351804e",
   "metadata": {},
   "outputs": [],
   "source": [
    "# Save Model\n",
    "#joblib.dump(nb, './models/NB_Baseline.pkl')\n",
    "\n",
    "# Load Model\n",
    "nb = joblib.load('./models/NB_Baseline.pkl')"
   ]
  },
  {
   "cell_type": "code",
   "execution_count": 35,
   "id": "3e03f595",
   "metadata": {},
   "outputs": [],
   "source": [
    "nb_predicted = nb.predict(X_test)"
   ]
  },
  {
   "cell_type": "code",
   "execution_count": 36,
   "id": "33d7a704",
   "metadata": {
    "scrolled": true
   },
   "outputs": [
    {
     "data": {
      "text/plain": [
       "array([[180147,  21187],\n",
       "       [ 15157,  43833]])"
      ]
     },
     "execution_count": 36,
     "metadata": {},
     "output_type": "execute_result"
    }
   ],
   "source": [
    "confusion_matrix(y_test, nb_predicted)"
   ]
  },
  {
   "cell_type": "markdown",
   "id": "f96bf2e7",
   "metadata": {},
   "source": [
    "[ TN FP ]  \n",
    "[ FN TP ]\n",
    "\n",
    "TP (Predict as default; the truth is default)  \n",
    "TN (Predict as not default; the truth is not default)  \n",
    "FP (Predict as default; the truth is not default)  \n",
    "FN (Predict as not default; the truth is default)"
   ]
  },
  {
   "cell_type": "code",
   "execution_count": 37,
   "id": "aef46583",
   "metadata": {},
   "outputs": [
    {
     "name": "stdout",
     "output_type": "stream",
     "text": [
      "NB Results\n",
      "Accuracy:  0.8603893609502005\n",
      "F1 Score:  0.7069268607370375\n",
      "Precision:  0.6741464164872347\n",
      "Recall:  0.7430581454483811\n"
     ]
    },
    {
     "data": {
      "text/html": [
       "<div>\n",
       "<style scoped>\n",
       "    .dataframe tbody tr th:only-of-type {\n",
       "        vertical-align: middle;\n",
       "    }\n",
       "\n",
       "    .dataframe tbody tr th {\n",
       "        vertical-align: top;\n",
       "    }\n",
       "\n",
       "    .dataframe thead th {\n",
       "        text-align: right;\n",
       "    }\n",
       "</style>\n",
       "<table border=\"1\" class=\"dataframe\">\n",
       "  <thead>\n",
       "    <tr style=\"text-align: right;\">\n",
       "      <th></th>\n",
       "      <th>Logit</th>\n",
       "      <th>NB</th>\n",
       "    </tr>\n",
       "  </thead>\n",
       "  <tbody>\n",
       "    <tr>\n",
       "      <th>Accuracy</th>\n",
       "      <td>0.890152</td>\n",
       "      <td>0.860389</td>\n",
       "    </tr>\n",
       "    <tr>\n",
       "      <th>F1 Score</th>\n",
       "      <td>0.750402</td>\n",
       "      <td>0.706927</td>\n",
       "    </tr>\n",
       "    <tr>\n",
       "      <th>Precision</th>\n",
       "      <td>0.773436</td>\n",
       "      <td>0.674146</td>\n",
       "    </tr>\n",
       "    <tr>\n",
       "      <th>Recall</th>\n",
       "      <td>0.728700</td>\n",
       "      <td>0.743058</td>\n",
       "    </tr>\n",
       "  </tbody>\n",
       "</table>\n",
       "</div>"
      ],
      "text/plain": [
       "              Logit        NB\n",
       "Accuracy   0.890152  0.860389\n",
       "F1 Score   0.750402  0.706927\n",
       "Precision  0.773436  0.674146\n",
       "Recall     0.728700  0.743058"
      ]
     },
     "metadata": {},
     "output_type": "display_data"
    }
   ],
   "source": [
    "my_eval('NB',y_test,nb_predicted)"
   ]
  },
  {
   "cell_type": "markdown",
   "id": "ee1e49a6",
   "metadata": {},
   "source": [
    "### Decision Tree (Baseline)"
   ]
  },
  {
   "cell_type": "code",
   "execution_count": null,
   "id": "5323fc79",
   "metadata": {},
   "outputs": [],
   "source": [
    "from sklearn.tree import DecisionTreeClassifier\n",
    "\n",
    "dtree = DecisionTreeClassifier()\n",
    "dtree.fit(X_train, y_train)"
   ]
  },
  {
   "cell_type": "markdown",
   "id": "a189d4d6",
   "metadata": {},
   "source": [
    "Running time is approximately 20 minutes."
   ]
  },
  {
   "cell_type": "code",
   "execution_count": 38,
   "id": "2dbf0ece",
   "metadata": {
    "scrolled": true
   },
   "outputs": [],
   "source": [
    "# Save Model\n",
    "#joblib.dump(dtree, './models/DT_Baseline.pkl')\n",
    "\n",
    "# Load Model\n",
    "dtree = joblib.load('./models/DT_Baseline.pkl')"
   ]
  },
  {
   "cell_type": "code",
   "execution_count": 39,
   "id": "ff72f02c",
   "metadata": {},
   "outputs": [],
   "source": [
    "dtree_predicted = dtree.predict(X_test)"
   ]
  },
  {
   "cell_type": "code",
   "execution_count": 40,
   "id": "5a2b8102",
   "metadata": {
    "scrolled": true
   },
   "outputs": [
    {
     "data": {
      "text/plain": [
       "array([[183366,  17968],\n",
       "       [ 17948,  41042]])"
      ]
     },
     "execution_count": 40,
     "metadata": {},
     "output_type": "execute_result"
    }
   ],
   "source": [
    "confusion_matrix(y_test, dtree_predicted)"
   ]
  },
  {
   "cell_type": "markdown",
   "id": "a57abd1a",
   "metadata": {},
   "source": [
    "[ TN FP ]  \n",
    "[ FN TP ]\n",
    "\n",
    "TP (Predict as default; the truth is default)  \n",
    "TN (Predict as not default; the truth is not default)  \n",
    "FP (Predict as default; the truth is not default)  \n",
    "FN (Predict as not default; the truth is default)"
   ]
  },
  {
   "cell_type": "code",
   "execution_count": 41,
   "id": "a60e6fa3",
   "metadata": {},
   "outputs": [
    {
     "name": "stdout",
     "output_type": "stream",
     "text": [
      "DT Results\n",
      "Accuracy:  0.8620334659885374\n",
      "F1 Score:  0.6956271186440678\n",
      "Precision:  0.6955092357227588\n",
      "Recall:  0.6957450415324631\n"
     ]
    },
    {
     "data": {
      "text/html": [
       "<div>\n",
       "<style scoped>\n",
       "    .dataframe tbody tr th:only-of-type {\n",
       "        vertical-align: middle;\n",
       "    }\n",
       "\n",
       "    .dataframe tbody tr th {\n",
       "        vertical-align: top;\n",
       "    }\n",
       "\n",
       "    .dataframe thead th {\n",
       "        text-align: right;\n",
       "    }\n",
       "</style>\n",
       "<table border=\"1\" class=\"dataframe\">\n",
       "  <thead>\n",
       "    <tr style=\"text-align: right;\">\n",
       "      <th></th>\n",
       "      <th>Logit</th>\n",
       "      <th>NB</th>\n",
       "      <th>DT</th>\n",
       "    </tr>\n",
       "  </thead>\n",
       "  <tbody>\n",
       "    <tr>\n",
       "      <th>Accuracy</th>\n",
       "      <td>0.890152</td>\n",
       "      <td>0.860389</td>\n",
       "      <td>0.862033</td>\n",
       "    </tr>\n",
       "    <tr>\n",
       "      <th>F1 Score</th>\n",
       "      <td>0.750402</td>\n",
       "      <td>0.706927</td>\n",
       "      <td>0.695627</td>\n",
       "    </tr>\n",
       "    <tr>\n",
       "      <th>Precision</th>\n",
       "      <td>0.773436</td>\n",
       "      <td>0.674146</td>\n",
       "      <td>0.695509</td>\n",
       "    </tr>\n",
       "    <tr>\n",
       "      <th>Recall</th>\n",
       "      <td>0.728700</td>\n",
       "      <td>0.743058</td>\n",
       "      <td>0.695745</td>\n",
       "    </tr>\n",
       "  </tbody>\n",
       "</table>\n",
       "</div>"
      ],
      "text/plain": [
       "              Logit        NB        DT\n",
       "Accuracy   0.890152  0.860389  0.862033\n",
       "F1 Score   0.750402  0.706927  0.695627\n",
       "Precision  0.773436  0.674146  0.695509\n",
       "Recall     0.728700  0.743058  0.695745"
      ]
     },
     "metadata": {},
     "output_type": "display_data"
    }
   ],
   "source": [
    "my_eval('DT',y_test,dtree_predicted)"
   ]
  },
  {
   "cell_type": "markdown",
   "id": "dd499bce",
   "metadata": {},
   "source": [
    "### Random Forest (Baseline)"
   ]
  },
  {
   "cell_type": "code",
   "execution_count": null,
   "id": "a73178ce",
   "metadata": {},
   "outputs": [],
   "source": [
    "from sklearn.ensemble import RandomForestClassifier\n",
    "\n",
    "rf = RandomForestClassifier()\n",
    "rf.fit(X_train, y_train)"
   ]
  },
  {
   "cell_type": "markdown",
   "id": "074678f7",
   "metadata": {},
   "source": [
    "Running time is approximately 1 hour."
   ]
  },
  {
   "cell_type": "code",
   "execution_count": 42,
   "id": "cf91c8b6",
   "metadata": {},
   "outputs": [],
   "source": [
    "# Save Model\n",
    "#joblib.dump(rf, './models/RF_Baseline.pkl')\n",
    "\n",
    "# Load Model\n",
    "rf = joblib.load('./models/RF_Baseline.pkl')"
   ]
  },
  {
   "cell_type": "code",
   "execution_count": 43,
   "id": "a8073463",
   "metadata": {},
   "outputs": [],
   "source": [
    "rf_predicted = rf.predict(X_test)"
   ]
  },
  {
   "cell_type": "code",
   "execution_count": 44,
   "id": "9bb0a7e9",
   "metadata": {
    "scrolled": true
   },
   "outputs": [
    {
     "data": {
      "text/plain": [
       "array([[190083,  11251],\n",
       "       [ 12607,  46383]])"
      ]
     },
     "execution_count": 44,
     "metadata": {},
     "output_type": "execute_result"
    }
   ],
   "source": [
    "confusion_matrix(y_test, rf_predicted)"
   ]
  },
  {
   "cell_type": "markdown",
   "id": "f7609705",
   "metadata": {},
   "source": [
    "[ TN FP ]  \n",
    "[ FN TP ]\n",
    "\n",
    "TP (Predict as default; the truth is default)  \n",
    "TN (Predict as not default; the truth is not default)  \n",
    "FP (Predict as default; the truth is not default)  \n",
    "FN (Predict as not default; the truth is default)"
   ]
  },
  {
   "cell_type": "code",
   "execution_count": 45,
   "id": "06c555c9",
   "metadata": {},
   "outputs": [
    {
     "name": "stdout",
     "output_type": "stream",
     "text": [
      "RF Results\n",
      "Accuracy:  0.9083526682134571\n",
      "F1 Score:  0.7954280422554535\n",
      "Precision:  0.8047853697470243\n",
      "Recall:  0.786285811154433\n"
     ]
    },
    {
     "data": {
      "text/html": [
       "<div>\n",
       "<style scoped>\n",
       "    .dataframe tbody tr th:only-of-type {\n",
       "        vertical-align: middle;\n",
       "    }\n",
       "\n",
       "    .dataframe tbody tr th {\n",
       "        vertical-align: top;\n",
       "    }\n",
       "\n",
       "    .dataframe thead th {\n",
       "        text-align: right;\n",
       "    }\n",
       "</style>\n",
       "<table border=\"1\" class=\"dataframe\">\n",
       "  <thead>\n",
       "    <tr style=\"text-align: right;\">\n",
       "      <th></th>\n",
       "      <th>Logit</th>\n",
       "      <th>NB</th>\n",
       "      <th>DT</th>\n",
       "      <th>RF</th>\n",
       "    </tr>\n",
       "  </thead>\n",
       "  <tbody>\n",
       "    <tr>\n",
       "      <th>Accuracy</th>\n",
       "      <td>0.890152</td>\n",
       "      <td>0.860389</td>\n",
       "      <td>0.862033</td>\n",
       "      <td>0.908353</td>\n",
       "    </tr>\n",
       "    <tr>\n",
       "      <th>F1 Score</th>\n",
       "      <td>0.750402</td>\n",
       "      <td>0.706927</td>\n",
       "      <td>0.695627</td>\n",
       "      <td>0.795428</td>\n",
       "    </tr>\n",
       "    <tr>\n",
       "      <th>Precision</th>\n",
       "      <td>0.773436</td>\n",
       "      <td>0.674146</td>\n",
       "      <td>0.695509</td>\n",
       "      <td>0.804785</td>\n",
       "    </tr>\n",
       "    <tr>\n",
       "      <th>Recall</th>\n",
       "      <td>0.728700</td>\n",
       "      <td>0.743058</td>\n",
       "      <td>0.695745</td>\n",
       "      <td>0.786286</td>\n",
       "    </tr>\n",
       "  </tbody>\n",
       "</table>\n",
       "</div>"
      ],
      "text/plain": [
       "              Logit        NB        DT        RF\n",
       "Accuracy   0.890152  0.860389  0.862033  0.908353\n",
       "F1 Score   0.750402  0.706927  0.695627  0.795428\n",
       "Precision  0.773436  0.674146  0.695509  0.804785\n",
       "Recall     0.728700  0.743058  0.695745  0.786286"
      ]
     },
     "metadata": {},
     "output_type": "display_data"
    }
   ],
   "source": [
    "my_eval('RF',y_test,rf_predicted)"
   ]
  },
  {
   "cell_type": "markdown",
   "id": "b45bc59d",
   "metadata": {},
   "source": [
    "---"
   ]
  },
  {
   "cell_type": "code",
   "execution_count": 46,
   "id": "daa05e3c",
   "metadata": {},
   "outputs": [],
   "source": [
    "df_model_compare.to_csv('./eval_results/eval_results.csv')"
   ]
  },
  {
   "cell_type": "markdown",
   "id": "ac4640f6",
   "metadata": {},
   "source": [
    "---\n",
    "# Kindly continue on the next notebook: (2 of 3) PCA"
   ]
  },
  {
   "cell_type": "code",
   "execution_count": null,
   "id": "6b754715",
   "metadata": {},
   "outputs": [],
   "source": []
  }
 ],
 "metadata": {
  "kernelspec": {
   "display_name": "Python 3 (ipykernel)",
   "language": "python",
   "name": "python3"
  },
  "language_info": {
   "codemirror_mode": {
    "name": "ipython",
    "version": 3
   },
   "file_extension": ".py",
   "mimetype": "text/x-python",
   "name": "python",
   "nbconvert_exporter": "python",
   "pygments_lexer": "ipython3",
   "version": "3.11.5"
  }
 },
 "nbformat": 4,
 "nbformat_minor": 5
}
